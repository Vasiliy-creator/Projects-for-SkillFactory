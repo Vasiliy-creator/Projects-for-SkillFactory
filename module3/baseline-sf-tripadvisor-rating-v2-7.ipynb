{
 "cells": [
  {
   "cell_type": "markdown",
   "metadata": {},
   "source": [
    "![](https://www.pata.org/wp-content/uploads/2014/09/TripAdvisor_Logo-300x119.png)\n",
    "# Predict TripAdvisor Rating\n",
    "## В этом соревновании нам предстоит предсказать рейтинг ресторана в TripAdvisor\n",
    "**По ходу задачи:**\n",
    "* Прокачаем работу с pandas\n",
    "* Научимся работать с Kaggle Notebooks\n",
    "* Поймем как делать предобработку различных данных\n",
    "* Научимся работать с пропущенными данными (Nan)\n",
    "* Познакомимся с различными видами кодирования признаков\n",
    "* Немного попробуем [Feature Engineering](https://ru.wikipedia.org/wiki/Конструирование_признаков) (генерировать новые признаки)\n",
    "* И совсем немного затронем ML\n",
    "* И многое другое...   \n",
    "\n",
    "\n",
    "\n",
    "### И самое важное, все это вы сможете сделать самостоятельно!\n",
    "\n",
    "*Этот Ноутбук являетсся Примером/Шаблоном к этому соревнованию (Baseline) и не служит готовым решением!*   \n",
    "Вы можете использовать его как основу для построения своего решения.\n",
    "\n",
    "> что такое baseline решение, зачем оно нужно и почему предоставлять baseline к соревнованию стало важным стандартом на kaggle и других площадках.   \n",
    "**baseline** создается больше как шаблон, где можно посмотреть как происходит обращение с входящими данными и что нужно получить на выходе. При этом МЛ начинка может быть достаточно простой, просто для примера. Это помогает быстрее приступить к самому МЛ, а не тратить ценное время на чисто инженерные задачи. \n",
    "Также baseline являеться хорошей опорной точкой по метрике. Если твое решение хуже baseline - ты явно делаешь что-то не то и стоит попробовать другой путь) \n",
    "\n",
    "В контексте нашего соревнования baseline идет с небольшими примерами того, что можно делать с данными, и с инструкцией, что делать дальше, чтобы улучшить результат.  Вообще готовым решением это сложно назвать, так как используются всего 2 самых простых признака (а остальные исключаются)."
   ]
  },
  {
   "cell_type": "markdown",
   "metadata": {},
   "source": [
    "# import"
   ]
  },
  {
   "cell_type": "code",
   "execution_count": 1,
   "metadata": {
    "_cell_guid": "b1076dfc-b9ad-4769-8c92-a6c4dae69d19",
    "_uuid": "8f2839f25d086af736a60e9eeb907d3b93b6e0e5",
    "execution": {
     "iopub.execute_input": "2021-05-22T12:10:06.059078Z",
     "iopub.status.busy": "2021-05-22T12:10:06.058734Z",
     "iopub.status.idle": "2021-05-22T12:10:06.076234Z",
     "shell.execute_reply": "2021-05-22T12:10:06.075429Z",
     "shell.execute_reply.started": "2021-05-22T12:10:06.059023Z"
    }
   },
   "outputs": [
    {
     "name": "stdout",
     "output_type": "stream",
     "text": [
      "/kaggle/input/sf-dst-restaurant-rating/sample_submission.csv\n",
      "/kaggle/input/sf-dst-restaurant-rating/main_task.csv\n",
      "/kaggle/input/sf-dst-restaurant-rating/kaggle_task.csv\n"
     ]
    }
   ],
   "source": [
    "# This Python 3 environment comes with many helpful analytics libraries installed\n",
    "# It is defined by the kaggle/python docker image: https://github.com/kaggle/docker-python\n",
    "# For example, here's several helpful packages to load in \n",
    "\n",
    "import numpy as np # linear algebra\n",
    "import pandas as pd # data processing, CSV file I/O (e.g. pd.read_csv)\n",
    "\n",
    "import matplotlib.pyplot as plt\n",
    "import seaborn as sns \n",
    "%matplotlib inline\n",
    "\n",
    "# Загружаем специальный удобный инструмент для разделения датасета:\n",
    "from sklearn.model_selection import train_test_split\n",
    "\n",
    "# Input data files are available in the \"../input/\" directory.\n",
    "# For example, running this (by clicking run or pressing Shift+Enter) will list all files under the input directory\n",
    "\n",
    "import os\n",
    "for dirname, _, filenames in os.walk('/kaggle/input'):\n",
    "    for filename in filenames:\n",
    "        print(os.path.join(dirname, filename))\n",
    "\n",
    "# Any results you write to the current directory are saved as output."
   ]
  },
  {
   "cell_type": "code",
   "execution_count": 2,
   "metadata": {
    "execution": {
     "iopub.execute_input": "2021-05-22T12:10:06.085623Z",
     "iopub.status.busy": "2021-05-22T12:10:06.085258Z",
     "iopub.status.idle": "2021-05-22T12:10:06.089852Z",
     "shell.execute_reply": "2021-05-22T12:10:06.088979Z",
     "shell.execute_reply.started": "2021-05-22T12:10:06.085536Z"
    }
   },
   "outputs": [],
   "source": [
    "# всегда фиксируйте RANDOM_SEED, чтобы ваши эксперименты были воспроизводимы!\n",
    "RANDOM_SEED = 42"
   ]
  },
  {
   "cell_type": "code",
   "execution_count": 3,
   "metadata": {
    "execution": {
     "iopub.execute_input": "2021-05-22T12:10:06.114205Z",
     "iopub.status.busy": "2021-05-22T12:10:06.113905Z",
     "iopub.status.idle": "2021-05-22T12:10:08.485767Z",
     "shell.execute_reply": "2021-05-22T12:10:08.484635Z",
     "shell.execute_reply.started": "2021-05-22T12:10:06.114161Z"
    }
   },
   "outputs": [],
   "source": [
    "# зафиксируем версию пакетов, чтобы эксперименты были воспроизводимы:\n",
    "!pip freeze > requirements.txt"
   ]
  },
  {
   "cell_type": "markdown",
   "metadata": {},
   "source": [
    "# DATA"
   ]
  },
  {
   "cell_type": "code",
   "execution_count": 4,
   "metadata": {
    "_cell_guid": "79c7e3d0-c299-4dcb-8224-4455121ee9b0",
    "_uuid": "d629ff2d2480ee46fbb7e2d37f6b5fab8052498a",
    "execution": {
     "iopub.execute_input": "2021-05-22T12:10:08.489305Z",
     "iopub.status.busy": "2021-05-22T12:10:08.488898Z",
     "iopub.status.idle": "2021-05-22T12:10:08.759487Z",
     "shell.execute_reply": "2021-05-22T12:10:08.758723Z",
     "shell.execute_reply.started": "2021-05-22T12:10:08.489232Z"
    }
   },
   "outputs": [],
   "source": [
    "DATA_DIR = '/kaggle/input/sf-dst-restaurant-rating/'\n",
    "df_train = pd.read_csv(DATA_DIR+'/main_task.csv')\n",
    "df_test = pd.read_csv(DATA_DIR+'kaggle_task.csv')\n",
    "sample_submission = pd.read_csv(DATA_DIR+'/sample_submission.csv')"
   ]
  },
  {
   "cell_type": "code",
   "execution_count": 5,
   "metadata": {
    "execution": {
     "iopub.execute_input": "2021-05-22T12:10:08.761276Z",
     "iopub.status.busy": "2021-05-22T12:10:08.761024Z",
     "iopub.status.idle": "2021-05-22T12:10:08.796386Z",
     "shell.execute_reply": "2021-05-22T12:10:08.795607Z",
     "shell.execute_reply.started": "2021-05-22T12:10:08.761233Z"
    }
   },
   "outputs": [
    {
     "name": "stdout",
     "output_type": "stream",
     "text": [
      "<class 'pandas.core.frame.DataFrame'>\n",
      "RangeIndex: 40000 entries, 0 to 39999\n",
      "Data columns (total 10 columns):\n",
      "Restaurant_id        40000 non-null object\n",
      "City                 40000 non-null object\n",
      "Cuisine Style        30717 non-null object\n",
      "Ranking              40000 non-null float64\n",
      "Rating               40000 non-null float64\n",
      "Price Range          26114 non-null object\n",
      "Number of Reviews    37457 non-null float64\n",
      "Reviews              40000 non-null object\n",
      "URL_TA               40000 non-null object\n",
      "ID_TA                40000 non-null object\n",
      "dtypes: float64(3), object(7)\n",
      "memory usage: 3.1+ MB\n"
     ]
    }
   ],
   "source": [
    "df_train.info()"
   ]
  },
  {
   "cell_type": "code",
   "execution_count": 6,
   "metadata": {
    "execution": {
     "iopub.execute_input": "2021-05-22T12:10:08.798140Z",
     "iopub.status.busy": "2021-05-22T12:10:08.797684Z",
     "iopub.status.idle": "2021-05-22T12:10:08.818564Z",
     "shell.execute_reply": "2021-05-22T12:10:08.817425Z",
     "shell.execute_reply.started": "2021-05-22T12:10:08.798079Z"
    }
   },
   "outputs": [
    {
     "data": {
      "text/html": [
       "<div>\n",
       "<style scoped>\n",
       "    .dataframe tbody tr th:only-of-type {\n",
       "        vertical-align: middle;\n",
       "    }\n",
       "\n",
       "    .dataframe tbody tr th {\n",
       "        vertical-align: top;\n",
       "    }\n",
       "\n",
       "    .dataframe thead th {\n",
       "        text-align: right;\n",
       "    }\n",
       "</style>\n",
       "<table border=\"1\" class=\"dataframe\">\n",
       "  <thead>\n",
       "    <tr style=\"text-align: right;\">\n",
       "      <th></th>\n",
       "      <th>Restaurant_id</th>\n",
       "      <th>City</th>\n",
       "      <th>Cuisine Style</th>\n",
       "      <th>Ranking</th>\n",
       "      <th>Rating</th>\n",
       "      <th>Price Range</th>\n",
       "      <th>Number of Reviews</th>\n",
       "      <th>Reviews</th>\n",
       "      <th>URL_TA</th>\n",
       "      <th>ID_TA</th>\n",
       "    </tr>\n",
       "  </thead>\n",
       "  <tbody>\n",
       "    <tr>\n",
       "      <th>0</th>\n",
       "      <td>id_5569</td>\n",
       "      <td>Paris</td>\n",
       "      <td>['European', 'French', 'International']</td>\n",
       "      <td>5570.0</td>\n",
       "      <td>3.5</td>\n",
       "      <td>$$ - $$$</td>\n",
       "      <td>194.0</td>\n",
       "      <td>[['Good food at your doorstep', 'A good hotel ...</td>\n",
       "      <td>/Restaurant_Review-g187147-d1912643-Reviews-R_...</td>\n",
       "      <td>d1912643</td>\n",
       "    </tr>\n",
       "    <tr>\n",
       "      <th>1</th>\n",
       "      <td>id_1535</td>\n",
       "      <td>Stockholm</td>\n",
       "      <td>NaN</td>\n",
       "      <td>1537.0</td>\n",
       "      <td>4.0</td>\n",
       "      <td>NaN</td>\n",
       "      <td>10.0</td>\n",
       "      <td>[['Unique cuisine', 'Delicious Nepalese food']...</td>\n",
       "      <td>/Restaurant_Review-g189852-d7992032-Reviews-Bu...</td>\n",
       "      <td>d7992032</td>\n",
       "    </tr>\n",
       "    <tr>\n",
       "      <th>2</th>\n",
       "      <td>id_352</td>\n",
       "      <td>London</td>\n",
       "      <td>['Japanese', 'Sushi', 'Asian', 'Grill', 'Veget...</td>\n",
       "      <td>353.0</td>\n",
       "      <td>4.5</td>\n",
       "      <td>$$$$</td>\n",
       "      <td>688.0</td>\n",
       "      <td>[['Catch up with friends', 'Not exceptional'],...</td>\n",
       "      <td>/Restaurant_Review-g186338-d8632781-Reviews-RO...</td>\n",
       "      <td>d8632781</td>\n",
       "    </tr>\n",
       "    <tr>\n",
       "      <th>3</th>\n",
       "      <td>id_3456</td>\n",
       "      <td>Berlin</td>\n",
       "      <td>NaN</td>\n",
       "      <td>3458.0</td>\n",
       "      <td>5.0</td>\n",
       "      <td>NaN</td>\n",
       "      <td>3.0</td>\n",
       "      <td>[[], []]</td>\n",
       "      <td>/Restaurant_Review-g187323-d1358776-Reviews-Es...</td>\n",
       "      <td>d1358776</td>\n",
       "    </tr>\n",
       "    <tr>\n",
       "      <th>4</th>\n",
       "      <td>id_615</td>\n",
       "      <td>Munich</td>\n",
       "      <td>['German', 'Central European', 'Vegetarian Fri...</td>\n",
       "      <td>621.0</td>\n",
       "      <td>4.0</td>\n",
       "      <td>$$ - $$$</td>\n",
       "      <td>84.0</td>\n",
       "      <td>[['Best place to try a Bavarian food', 'Nice b...</td>\n",
       "      <td>/Restaurant_Review-g187309-d6864963-Reviews-Au...</td>\n",
       "      <td>d6864963</td>\n",
       "    </tr>\n",
       "  </tbody>\n",
       "</table>\n",
       "</div>"
      ],
      "text/plain": [
       "  Restaurant_id       City                                      Cuisine Style  \\\n",
       "0       id_5569      Paris            ['European', 'French', 'International']   \n",
       "1       id_1535  Stockholm                                                NaN   \n",
       "2        id_352     London  ['Japanese', 'Sushi', 'Asian', 'Grill', 'Veget...   \n",
       "3       id_3456     Berlin                                                NaN   \n",
       "4        id_615     Munich  ['German', 'Central European', 'Vegetarian Fri...   \n",
       "\n",
       "   Ranking  Rating Price Range  Number of Reviews  \\\n",
       "0   5570.0     3.5    $$ - $$$              194.0   \n",
       "1   1537.0     4.0         NaN               10.0   \n",
       "2    353.0     4.5        $$$$              688.0   \n",
       "3   3458.0     5.0         NaN                3.0   \n",
       "4    621.0     4.0    $$ - $$$               84.0   \n",
       "\n",
       "                                             Reviews  \\\n",
       "0  [['Good food at your doorstep', 'A good hotel ...   \n",
       "1  [['Unique cuisine', 'Delicious Nepalese food']...   \n",
       "2  [['Catch up with friends', 'Not exceptional'],...   \n",
       "3                                           [[], []]   \n",
       "4  [['Best place to try a Bavarian food', 'Nice b...   \n",
       "\n",
       "                                              URL_TA     ID_TA  \n",
       "0  /Restaurant_Review-g187147-d1912643-Reviews-R_...  d1912643  \n",
       "1  /Restaurant_Review-g189852-d7992032-Reviews-Bu...  d7992032  \n",
       "2  /Restaurant_Review-g186338-d8632781-Reviews-RO...  d8632781  \n",
       "3  /Restaurant_Review-g187323-d1358776-Reviews-Es...  d1358776  \n",
       "4  /Restaurant_Review-g187309-d6864963-Reviews-Au...  d6864963  "
      ]
     },
     "execution_count": 6,
     "metadata": {},
     "output_type": "execute_result"
    }
   ],
   "source": [
    "df_train.head(5)"
   ]
  },
  {
   "cell_type": "code",
   "execution_count": 7,
   "metadata": {
    "execution": {
     "iopub.execute_input": "2021-05-22T12:10:08.822384Z",
     "iopub.status.busy": "2021-05-22T12:10:08.822011Z",
     "iopub.status.idle": "2021-05-22T12:10:08.841906Z",
     "shell.execute_reply": "2021-05-22T12:10:08.841025Z",
     "shell.execute_reply.started": "2021-05-22T12:10:08.822275Z"
    }
   },
   "outputs": [
    {
     "name": "stdout",
     "output_type": "stream",
     "text": [
      "<class 'pandas.core.frame.DataFrame'>\n",
      "RangeIndex: 10000 entries, 0 to 9999\n",
      "Data columns (total 9 columns):\n",
      "Restaurant_id        10000 non-null object\n",
      "City                 10000 non-null object\n",
      "Cuisine Style        7693 non-null object\n",
      "Ranking              10000 non-null float64\n",
      "Price Range          6525 non-null object\n",
      "Number of Reviews    9343 non-null float64\n",
      "Reviews              9998 non-null object\n",
      "URL_TA               10000 non-null object\n",
      "ID_TA                10000 non-null object\n",
      "dtypes: float64(2), object(7)\n",
      "memory usage: 703.2+ KB\n"
     ]
    }
   ],
   "source": [
    "df_test.info()"
   ]
  },
  {
   "cell_type": "code",
   "execution_count": 8,
   "metadata": {
    "execution": {
     "iopub.execute_input": "2021-05-22T12:10:08.845714Z",
     "iopub.status.busy": "2021-05-22T12:10:08.845346Z",
     "iopub.status.idle": "2021-05-22T12:10:08.864110Z",
     "shell.execute_reply": "2021-05-22T12:10:08.862972Z",
     "shell.execute_reply.started": "2021-05-22T12:10:08.845652Z"
    }
   },
   "outputs": [
    {
     "data": {
      "text/html": [
       "<div>\n",
       "<style scoped>\n",
       "    .dataframe tbody tr th:only-of-type {\n",
       "        vertical-align: middle;\n",
       "    }\n",
       "\n",
       "    .dataframe tbody tr th {\n",
       "        vertical-align: top;\n",
       "    }\n",
       "\n",
       "    .dataframe thead th {\n",
       "        text-align: right;\n",
       "    }\n",
       "</style>\n",
       "<table border=\"1\" class=\"dataframe\">\n",
       "  <thead>\n",
       "    <tr style=\"text-align: right;\">\n",
       "      <th></th>\n",
       "      <th>Restaurant_id</th>\n",
       "      <th>City</th>\n",
       "      <th>Cuisine Style</th>\n",
       "      <th>Ranking</th>\n",
       "      <th>Price Range</th>\n",
       "      <th>Number of Reviews</th>\n",
       "      <th>Reviews</th>\n",
       "      <th>URL_TA</th>\n",
       "      <th>ID_TA</th>\n",
       "    </tr>\n",
       "  </thead>\n",
       "  <tbody>\n",
       "    <tr>\n",
       "      <th>0</th>\n",
       "      <td>id_0</td>\n",
       "      <td>Paris</td>\n",
       "      <td>['Bar', 'Pub']</td>\n",
       "      <td>12963.0</td>\n",
       "      <td>$$ - $$$</td>\n",
       "      <td>4.0</td>\n",
       "      <td>[[], []]</td>\n",
       "      <td>/Restaurant_Review-g187147-d10746918-Reviews-L...</td>\n",
       "      <td>d10746918</td>\n",
       "    </tr>\n",
       "    <tr>\n",
       "      <th>1</th>\n",
       "      <td>id_1</td>\n",
       "      <td>Helsinki</td>\n",
       "      <td>['European', 'Scandinavian', 'Gluten Free Opti...</td>\n",
       "      <td>106.0</td>\n",
       "      <td>$$ - $$$</td>\n",
       "      <td>97.0</td>\n",
       "      <td>[['Very good reviews!', 'Fine dining in Hakani...</td>\n",
       "      <td>/Restaurant_Review-g189934-d6674944-Reviews-Ra...</td>\n",
       "      <td>d6674944</td>\n",
       "    </tr>\n",
       "    <tr>\n",
       "      <th>2</th>\n",
       "      <td>id_2</td>\n",
       "      <td>Edinburgh</td>\n",
       "      <td>['Vegetarian Friendly']</td>\n",
       "      <td>810.0</td>\n",
       "      <td>$$ - $$$</td>\n",
       "      <td>28.0</td>\n",
       "      <td>[['Better than the Links', 'Ivy Black'], ['12/...</td>\n",
       "      <td>/Restaurant_Review-g186525-d13129638-Reviews-B...</td>\n",
       "      <td>d13129638</td>\n",
       "    </tr>\n",
       "    <tr>\n",
       "      <th>3</th>\n",
       "      <td>id_3</td>\n",
       "      <td>London</td>\n",
       "      <td>['Italian', 'Mediterranean', 'European', 'Vege...</td>\n",
       "      <td>1669.0</td>\n",
       "      <td>$$$$</td>\n",
       "      <td>202.0</td>\n",
       "      <td>[['Most exquisite', 'Delicious and authentic']...</td>\n",
       "      <td>/Restaurant_Review-g186338-d680417-Reviews-Qui...</td>\n",
       "      <td>d680417</td>\n",
       "    </tr>\n",
       "    <tr>\n",
       "      <th>4</th>\n",
       "      <td>id_4</td>\n",
       "      <td>Bratislava</td>\n",
       "      <td>['Italian', 'Mediterranean', 'European', 'Seaf...</td>\n",
       "      <td>37.0</td>\n",
       "      <td>$$$$</td>\n",
       "      <td>162.0</td>\n",
       "      <td>[['Always the best in bratislava', 'Very good ...</td>\n",
       "      <td>/Restaurant_Review-g274924-d1112354-Reviews-Ma...</td>\n",
       "      <td>d1112354</td>\n",
       "    </tr>\n",
       "  </tbody>\n",
       "</table>\n",
       "</div>"
      ],
      "text/plain": [
       "  Restaurant_id        City  \\\n",
       "0          id_0       Paris   \n",
       "1          id_1    Helsinki   \n",
       "2          id_2   Edinburgh   \n",
       "3          id_3      London   \n",
       "4          id_4  Bratislava   \n",
       "\n",
       "                                       Cuisine Style  Ranking Price Range  \\\n",
       "0                                     ['Bar', 'Pub']  12963.0    $$ - $$$   \n",
       "1  ['European', 'Scandinavian', 'Gluten Free Opti...    106.0    $$ - $$$   \n",
       "2                            ['Vegetarian Friendly']    810.0    $$ - $$$   \n",
       "3  ['Italian', 'Mediterranean', 'European', 'Vege...   1669.0        $$$$   \n",
       "4  ['Italian', 'Mediterranean', 'European', 'Seaf...     37.0        $$$$   \n",
       "\n",
       "   Number of Reviews                                            Reviews  \\\n",
       "0                4.0                                           [[], []]   \n",
       "1               97.0  [['Very good reviews!', 'Fine dining in Hakani...   \n",
       "2               28.0  [['Better than the Links', 'Ivy Black'], ['12/...   \n",
       "3              202.0  [['Most exquisite', 'Delicious and authentic']...   \n",
       "4              162.0  [['Always the best in bratislava', 'Very good ...   \n",
       "\n",
       "                                              URL_TA      ID_TA  \n",
       "0  /Restaurant_Review-g187147-d10746918-Reviews-L...  d10746918  \n",
       "1  /Restaurant_Review-g189934-d6674944-Reviews-Ra...   d6674944  \n",
       "2  /Restaurant_Review-g186525-d13129638-Reviews-B...  d13129638  \n",
       "3  /Restaurant_Review-g186338-d680417-Reviews-Qui...    d680417  \n",
       "4  /Restaurant_Review-g274924-d1112354-Reviews-Ma...   d1112354  "
      ]
     },
     "execution_count": 8,
     "metadata": {},
     "output_type": "execute_result"
    }
   ],
   "source": [
    "df_test.head(5)"
   ]
  },
  {
   "cell_type": "code",
   "execution_count": 9,
   "metadata": {
    "execution": {
     "iopub.execute_input": "2021-05-22T12:10:08.866480Z",
     "iopub.status.busy": "2021-05-22T12:10:08.866187Z",
     "iopub.status.idle": "2021-05-22T12:10:08.882792Z",
     "shell.execute_reply": "2021-05-22T12:10:08.881430Z",
     "shell.execute_reply.started": "2021-05-22T12:10:08.866430Z"
    }
   },
   "outputs": [
    {
     "data": {
      "text/html": [
       "<div>\n",
       "<style scoped>\n",
       "    .dataframe tbody tr th:only-of-type {\n",
       "        vertical-align: middle;\n",
       "    }\n",
       "\n",
       "    .dataframe tbody tr th {\n",
       "        vertical-align: top;\n",
       "    }\n",
       "\n",
       "    .dataframe thead th {\n",
       "        text-align: right;\n",
       "    }\n",
       "</style>\n",
       "<table border=\"1\" class=\"dataframe\">\n",
       "  <thead>\n",
       "    <tr style=\"text-align: right;\">\n",
       "      <th></th>\n",
       "      <th>Restaurant_id</th>\n",
       "      <th>Rating</th>\n",
       "    </tr>\n",
       "  </thead>\n",
       "  <tbody>\n",
       "    <tr>\n",
       "      <th>0</th>\n",
       "      <td>id_0</td>\n",
       "      <td>2.0</td>\n",
       "    </tr>\n",
       "    <tr>\n",
       "      <th>1</th>\n",
       "      <td>id_1</td>\n",
       "      <td>2.5</td>\n",
       "    </tr>\n",
       "    <tr>\n",
       "      <th>2</th>\n",
       "      <td>id_2</td>\n",
       "      <td>4.0</td>\n",
       "    </tr>\n",
       "    <tr>\n",
       "      <th>3</th>\n",
       "      <td>id_3</td>\n",
       "      <td>1.0</td>\n",
       "    </tr>\n",
       "    <tr>\n",
       "      <th>4</th>\n",
       "      <td>id_4</td>\n",
       "      <td>4.0</td>\n",
       "    </tr>\n",
       "  </tbody>\n",
       "</table>\n",
       "</div>"
      ],
      "text/plain": [
       "  Restaurant_id  Rating\n",
       "0          id_0     2.0\n",
       "1          id_1     2.5\n",
       "2          id_2     4.0\n",
       "3          id_3     1.0\n",
       "4          id_4     4.0"
      ]
     },
     "execution_count": 9,
     "metadata": {},
     "output_type": "execute_result"
    }
   ],
   "source": [
    "sample_submission.head(5)"
   ]
  },
  {
   "cell_type": "code",
   "execution_count": 10,
   "metadata": {
    "execution": {
     "iopub.execute_input": "2021-05-22T12:10:08.884803Z",
     "iopub.status.busy": "2021-05-22T12:10:08.884431Z",
     "iopub.status.idle": "2021-05-22T12:10:08.905424Z",
     "shell.execute_reply": "2021-05-22T12:10:08.904359Z",
     "shell.execute_reply.started": "2021-05-22T12:10:08.884687Z"
    }
   },
   "outputs": [
    {
     "name": "stdout",
     "output_type": "stream",
     "text": [
      "<class 'pandas.core.frame.DataFrame'>\n",
      "RangeIndex: 10000 entries, 0 to 9999\n",
      "Data columns (total 2 columns):\n",
      "Restaurant_id    10000 non-null object\n",
      "Rating           10000 non-null float64\n",
      "dtypes: float64(1), object(1)\n",
      "memory usage: 156.4+ KB\n"
     ]
    }
   ],
   "source": [
    "sample_submission.info()"
   ]
  },
  {
   "cell_type": "code",
   "execution_count": 11,
   "metadata": {
    "execution": {
     "iopub.execute_input": "2021-05-22T12:10:08.907276Z",
     "iopub.status.busy": "2021-05-22T12:10:08.906940Z",
     "iopub.status.idle": "2021-05-22T12:10:08.957806Z",
     "shell.execute_reply": "2021-05-22T12:10:08.956949Z",
     "shell.execute_reply.started": "2021-05-22T12:10:08.907219Z"
    }
   },
   "outputs": [],
   "source": [
    "# ВАЖНО! дря корректной обработки признаков объединяем трейн и тест в один датасет\n",
    "df_train['sample'] = 1 # помечаем где у нас трейн\n",
    "df_test['sample'] = 0 # помечаем где у нас тест\n",
    "df_test['Rating'] = 0 # в тесте у нас нет значения Rating, мы его должны предсказать, по этому пока просто заполняем нулями\n",
    "\n",
    "data = df_test.append(df_train, sort=False).reset_index(drop=True) # объединяем"
   ]
  },
  {
   "cell_type": "code",
   "execution_count": 12,
   "metadata": {
    "execution": {
     "iopub.execute_input": "2021-05-22T12:10:08.959657Z",
     "iopub.status.busy": "2021-05-22T12:10:08.959361Z",
     "iopub.status.idle": "2021-05-22T12:10:09.000842Z",
     "shell.execute_reply": "2021-05-22T12:10:08.999993Z",
     "shell.execute_reply.started": "2021-05-22T12:10:08.959605Z"
    }
   },
   "outputs": [
    {
     "name": "stdout",
     "output_type": "stream",
     "text": [
      "<class 'pandas.core.frame.DataFrame'>\n",
      "RangeIndex: 50000 entries, 0 to 49999\n",
      "Data columns (total 11 columns):\n",
      "Restaurant_id        50000 non-null object\n",
      "City                 50000 non-null object\n",
      "Cuisine Style        38410 non-null object\n",
      "Ranking              50000 non-null float64\n",
      "Price Range          32639 non-null object\n",
      "Number of Reviews    46800 non-null float64\n",
      "Reviews              49998 non-null object\n",
      "URL_TA               50000 non-null object\n",
      "ID_TA                50000 non-null object\n",
      "sample               50000 non-null int64\n",
      "Rating               50000 non-null float64\n",
      "dtypes: float64(3), int64(1), object(7)\n",
      "memory usage: 4.2+ MB\n"
     ]
    }
   ],
   "source": [
    "data.info()"
   ]
  },
  {
   "cell_type": "markdown",
   "metadata": {},
   "source": [
    "Подробнее по признакам:\n",
    "* City: Город \n",
    "* Cuisine Style: Кухня\n",
    "* Ranking: Ранг ресторана относительно других ресторанов в этом городе\n",
    "* Price Range: Цены в ресторане в 3 категориях\n",
    "* Number of Reviews: Количество отзывов\n",
    "* Reviews: 2 последних отзыва и даты этих отзывов\n",
    "* URL_TA: страница ресторана на 'www.tripadvisor.com' \n",
    "* ID_TA: ID ресторана в TripAdvisor\n",
    "* Rating: Рейтинг ресторана"
   ]
  },
  {
   "cell_type": "code",
   "execution_count": 13,
   "metadata": {
    "execution": {
     "iopub.execute_input": "2021-05-22T12:10:09.002442Z",
     "iopub.status.busy": "2021-05-22T12:10:09.002115Z",
     "iopub.status.idle": "2021-05-22T12:10:09.023793Z",
     "shell.execute_reply": "2021-05-22T12:10:09.022986Z",
     "shell.execute_reply.started": "2021-05-22T12:10:09.002401Z"
    }
   },
   "outputs": [
    {
     "data": {
      "text/html": [
       "<div>\n",
       "<style scoped>\n",
       "    .dataframe tbody tr th:only-of-type {\n",
       "        vertical-align: middle;\n",
       "    }\n",
       "\n",
       "    .dataframe tbody tr th {\n",
       "        vertical-align: top;\n",
       "    }\n",
       "\n",
       "    .dataframe thead th {\n",
       "        text-align: right;\n",
       "    }\n",
       "</style>\n",
       "<table border=\"1\" class=\"dataframe\">\n",
       "  <thead>\n",
       "    <tr style=\"text-align: right;\">\n",
       "      <th></th>\n",
       "      <th>Restaurant_id</th>\n",
       "      <th>City</th>\n",
       "      <th>Cuisine Style</th>\n",
       "      <th>Ranking</th>\n",
       "      <th>Price Range</th>\n",
       "      <th>Number of Reviews</th>\n",
       "      <th>Reviews</th>\n",
       "      <th>URL_TA</th>\n",
       "      <th>ID_TA</th>\n",
       "      <th>sample</th>\n",
       "      <th>Rating</th>\n",
       "    </tr>\n",
       "  </thead>\n",
       "  <tbody>\n",
       "    <tr>\n",
       "      <th>8624</th>\n",
       "      <td>id_8624</td>\n",
       "      <td>Bratislava</td>\n",
       "      <td>['Healthy']</td>\n",
       "      <td>514.0</td>\n",
       "      <td>$</td>\n",
       "      <td>3.0</td>\n",
       "      <td>[['Quick lunch', 'Hats off to the owner!'], ['...</td>\n",
       "      <td>/Restaurant_Review-g274924-d11953370-Reviews-S...</td>\n",
       "      <td>d11953370</td>\n",
       "      <td>0</td>\n",
       "      <td>0.0</td>\n",
       "    </tr>\n",
       "    <tr>\n",
       "      <th>39427</th>\n",
       "      <td>id_1975</td>\n",
       "      <td>Vienna</td>\n",
       "      <td>NaN</td>\n",
       "      <td>1977.0</td>\n",
       "      <td>NaN</td>\n",
       "      <td>3.0</td>\n",
       "      <td>[['Worth a visit!'], ['09/07/2017']]</td>\n",
       "      <td>/Restaurant_Review-g190454-d12234138-Reviews-B...</td>\n",
       "      <td>d12234138</td>\n",
       "      <td>1</td>\n",
       "      <td>4.5</td>\n",
       "    </tr>\n",
       "    <tr>\n",
       "      <th>1889</th>\n",
       "      <td>id_1889</td>\n",
       "      <td>Milan</td>\n",
       "      <td>['Seafood', 'Mediterranean', 'European', 'Span...</td>\n",
       "      <td>684.0</td>\n",
       "      <td>$$ - $$$</td>\n",
       "      <td>462.0</td>\n",
       "      <td>[['Excellent Halal Spanish Food. Highly Recom....</td>\n",
       "      <td>/Restaurant_Review-g187849-d2369684-Reviews-Ba...</td>\n",
       "      <td>d2369684</td>\n",
       "      <td>0</td>\n",
       "      <td>0.0</td>\n",
       "    </tr>\n",
       "    <tr>\n",
       "      <th>18483</th>\n",
       "      <td>id_12266</td>\n",
       "      <td>London</td>\n",
       "      <td>NaN</td>\n",
       "      <td>12276.0</td>\n",
       "      <td>NaN</td>\n",
       "      <td>10.0</td>\n",
       "      <td>[['A real life and pocket saver', 'Crowded but...</td>\n",
       "      <td>/Restaurant_Review-g186338-d680336-Reviews-Caf...</td>\n",
       "      <td>d680336</td>\n",
       "      <td>1</td>\n",
       "      <td>4.0</td>\n",
       "    </tr>\n",
       "    <tr>\n",
       "      <th>46496</th>\n",
       "      <td>id_3220</td>\n",
       "      <td>Barcelona</td>\n",
       "      <td>['Fast Food', 'International', 'European', 'Sp...</td>\n",
       "      <td>3221.0</td>\n",
       "      <td>$</td>\n",
       "      <td>7.0</td>\n",
       "      <td>[['Fantastic sandwiches!', 'Authentic sandwich...</td>\n",
       "      <td>/Restaurant_Review-g187497-d12599437-Reviews-S...</td>\n",
       "      <td>d12599437</td>\n",
       "      <td>1</td>\n",
       "      <td>4.5</td>\n",
       "    </tr>\n",
       "  </tbody>\n",
       "</table>\n",
       "</div>"
      ],
      "text/plain": [
       "      Restaurant_id        City  \\\n",
       "8624        id_8624  Bratislava   \n",
       "39427       id_1975      Vienna   \n",
       "1889        id_1889       Milan   \n",
       "18483      id_12266      London   \n",
       "46496       id_3220   Barcelona   \n",
       "\n",
       "                                           Cuisine Style  Ranking Price Range  \\\n",
       "8624                                         ['Healthy']    514.0           $   \n",
       "39427                                                NaN   1977.0         NaN   \n",
       "1889   ['Seafood', 'Mediterranean', 'European', 'Span...    684.0    $$ - $$$   \n",
       "18483                                                NaN  12276.0         NaN   \n",
       "46496  ['Fast Food', 'International', 'European', 'Sp...   3221.0           $   \n",
       "\n",
       "       Number of Reviews                                            Reviews  \\\n",
       "8624                 3.0  [['Quick lunch', 'Hats off to the owner!'], ['...   \n",
       "39427                3.0               [['Worth a visit!'], ['09/07/2017']]   \n",
       "1889               462.0  [['Excellent Halal Spanish Food. Highly Recom....   \n",
       "18483               10.0  [['A real life and pocket saver', 'Crowded but...   \n",
       "46496                7.0  [['Fantastic sandwiches!', 'Authentic sandwich...   \n",
       "\n",
       "                                                  URL_TA      ID_TA  sample  \\\n",
       "8624   /Restaurant_Review-g274924-d11953370-Reviews-S...  d11953370       0   \n",
       "39427  /Restaurant_Review-g190454-d12234138-Reviews-B...  d12234138       1   \n",
       "1889   /Restaurant_Review-g187849-d2369684-Reviews-Ba...   d2369684       0   \n",
       "18483  /Restaurant_Review-g186338-d680336-Reviews-Caf...    d680336       1   \n",
       "46496  /Restaurant_Review-g187497-d12599437-Reviews-S...  d12599437       1   \n",
       "\n",
       "       Rating  \n",
       "8624      0.0  \n",
       "39427     4.5  \n",
       "1889      0.0  \n",
       "18483     4.0  \n",
       "46496     4.5  "
      ]
     },
     "execution_count": 13,
     "metadata": {},
     "output_type": "execute_result"
    }
   ],
   "source": [
    "data.sample(5)"
   ]
  },
  {
   "cell_type": "code",
   "execution_count": 14,
   "metadata": {
    "execution": {
     "iopub.execute_input": "2021-05-22T12:10:09.025683Z",
     "iopub.status.busy": "2021-05-22T12:10:09.025139Z",
     "iopub.status.idle": "2021-05-22T12:10:09.038923Z",
     "shell.execute_reply": "2021-05-22T12:10:09.038131Z",
     "shell.execute_reply.started": "2021-05-22T12:10:09.025618Z"
    }
   },
   "outputs": [
    {
     "data": {
      "text/plain": [
       "\"[['Very good reviews!', 'Fine dining in Hakaniemi'], ['12/05/2017', '10/29/2017']]\""
      ]
     },
     "execution_count": 14,
     "metadata": {},
     "output_type": "execute_result"
    }
   ],
   "source": [
    "data.Reviews[1]"
   ]
  },
  {
   "cell_type": "markdown",
   "metadata": {},
   "source": [
    "Как видим, большинство признаков у нас требует очистки и предварительной обработки."
   ]
  },
  {
   "cell_type": "markdown",
   "metadata": {},
   "source": [
    "# Cleaning and Prepping Data\n",
    "Обычно данные содержат в себе кучу мусора, который необходимо почистить, для того чтобы привести их в приемлемый формат. Чистка данных — это необходимый этап решения почти любой реальной задачи.   \n",
    "![](https://analyticsindiamag.com/wp-content/uploads/2018/01/data-cleaning.png)"
   ]
  },
  {
   "cell_type": "markdown",
   "metadata": {},
   "source": [
    "## 1. Обработка NAN \n",
    "У наличия пропусков могут быть разные причины, но пропуски нужно либо заполнить, либо исключить из набора полностью. Но с пропусками нужно быть внимательным, **даже отсутствие информации может быть важным признаком!**   \n",
    "По этому перед обработкой NAN лучше вынести информацию о наличии пропуска как отдельный признак "
   ]
  },
  {
   "cell_type": "code",
   "execution_count": 15,
   "metadata": {
    "execution": {
     "iopub.execute_input": "2021-05-22T12:10:09.040828Z",
     "iopub.status.busy": "2021-05-22T12:10:09.040282Z",
     "iopub.status.idle": "2021-05-22T12:10:09.048883Z",
     "shell.execute_reply": "2021-05-22T12:10:09.048053Z",
     "shell.execute_reply.started": "2021-05-22T12:10:09.040778Z"
    }
   },
   "outputs": [],
   "source": [
    "# Далее заполняем пропуски 0, вы можете попробовать заполнением средним или средним по городу и тд...\n",
    "data['Number of Reviews'].fillna(0, inplace=True)"
   ]
  },
  {
   "cell_type": "code",
   "execution_count": 16,
   "metadata": {
    "execution": {
     "iopub.execute_input": "2021-05-22T12:10:09.050535Z",
     "iopub.status.busy": "2021-05-22T12:10:09.050237Z",
     "iopub.status.idle": "2021-05-22T12:10:09.066031Z",
     "shell.execute_reply": "2021-05-22T12:10:09.065277Z",
     "shell.execute_reply.started": "2021-05-22T12:10:09.050475Z"
    }
   },
   "outputs": [],
   "source": [
    "# заполнение пустых значений признака Reviews\n",
    "data['Reviews'].fillna('[]', inplace=True)"
   ]
  },
  {
   "cell_type": "code",
   "execution_count": 17,
   "metadata": {
    "execution": {
     "iopub.execute_input": "2021-05-22T12:10:09.067970Z",
     "iopub.status.busy": "2021-05-22T12:10:09.067419Z",
     "iopub.status.idle": "2021-05-22T12:10:09.087349Z",
     "shell.execute_reply": "2021-05-22T12:10:09.085993Z",
     "shell.execute_reply.started": "2021-05-22T12:10:09.067910Z"
    }
   },
   "outputs": [],
   "source": [
    "# Заполнение Cuisine Style самым частым значением\n",
    "data['Cuisine Style'] = data['Cuisine Style'].fillna(\"['Vegetarian Friendly']\")"
   ]
  },
  {
   "cell_type": "code",
   "execution_count": 18,
   "metadata": {
    "execution": {
     "iopub.execute_input": "2021-05-22T12:10:09.089265Z",
     "iopub.status.busy": "2021-05-22T12:10:09.088886Z",
     "iopub.status.idle": "2021-05-22T12:10:09.102194Z",
     "shell.execute_reply": "2021-05-22T12:10:09.100906Z",
     "shell.execute_reply.started": "2021-05-22T12:10:09.089210Z"
    }
   },
   "outputs": [],
   "source": [
    "# Заполнение признака Number of Reviews средним значением\n",
    "data['Number of Reviews'].fillna(np.mean(data['Number of Reviews']), inplace =True)"
   ]
  },
  {
   "cell_type": "code",
   "execution_count": 19,
   "metadata": {
    "execution": {
     "iopub.execute_input": "2021-05-22T12:10:09.103962Z",
     "iopub.status.busy": "2021-05-22T12:10:09.103622Z",
     "iopub.status.idle": "2021-05-22T12:10:09.120964Z",
     "shell.execute_reply": "2021-05-22T12:10:09.120032Z",
     "shell.execute_reply.started": "2021-05-22T12:10:09.103910Z"
    }
   },
   "outputs": [],
   "source": [
    "# Заполнение Price Range  самым частым значением\n",
    "data['Price Range'].fillna('$$ - $$$', inplace=True)"
   ]
  },
  {
   "cell_type": "code",
   "execution_count": 20,
   "metadata": {
    "execution": {
     "iopub.execute_input": "2021-05-22T12:10:09.122908Z",
     "iopub.status.busy": "2021-05-22T12:10:09.122602Z",
     "iopub.status.idle": "2021-05-22T12:10:09.172469Z",
     "shell.execute_reply": "2021-05-22T12:10:09.171407Z",
     "shell.execute_reply.started": "2021-05-22T12:10:09.122845Z"
    }
   },
   "outputs": [
    {
     "name": "stdout",
     "output_type": "stream",
     "text": [
      "<class 'pandas.core.frame.DataFrame'>\n",
      "RangeIndex: 50000 entries, 0 to 49999\n",
      "Data columns (total 11 columns):\n",
      "Restaurant_id        50000 non-null object\n",
      "City                 50000 non-null object\n",
      "Cuisine Style        50000 non-null object\n",
      "Ranking              50000 non-null float64\n",
      "Price Range          50000 non-null object\n",
      "Number of Reviews    50000 non-null float64\n",
      "Reviews              50000 non-null object\n",
      "URL_TA               50000 non-null object\n",
      "ID_TA                50000 non-null object\n",
      "sample               50000 non-null int64\n",
      "Rating               50000 non-null float64\n",
      "dtypes: float64(3), int64(1), object(7)\n",
      "memory usage: 4.2+ MB\n"
     ]
    }
   ],
   "source": [
    "data.info()"
   ]
  },
  {
   "cell_type": "markdown",
   "metadata": {},
   "source": [
    "### 2. Обработка признаков\n",
    "Для начала посмотрим какие признаки у нас могут быть категориальными."
   ]
  },
  {
   "cell_type": "code",
   "execution_count": 21,
   "metadata": {
    "execution": {
     "iopub.execute_input": "2021-05-22T12:10:09.174490Z",
     "iopub.status.busy": "2021-05-22T12:10:09.174109Z",
     "iopub.status.idle": "2021-05-22T12:10:09.298323Z",
     "shell.execute_reply": "2021-05-22T12:10:09.297524Z",
     "shell.execute_reply.started": "2021-05-22T12:10:09.174415Z"
    }
   },
   "outputs": [
    {
     "data": {
      "text/plain": [
       "Restaurant_id        13094\n",
       "City                    31\n",
       "Cuisine Style        10731\n",
       "Ranking              12975\n",
       "Price Range              3\n",
       "Number of Reviews     1574\n",
       "Reviews              41858\n",
       "URL_TA               49963\n",
       "ID_TA                49963\n",
       "sample                   2\n",
       "Rating                  10\n",
       "dtype: int64"
      ]
     },
     "execution_count": 21,
     "metadata": {},
     "output_type": "execute_result"
    }
   ],
   "source": [
    "data.nunique(dropna=False)"
   ]
  },
  {
   "cell_type": "markdown",
   "metadata": {},
   "source": [
    "Какие признаки можно считать категориальными?"
   ]
  },
  {
   "cell_type": "markdown",
   "metadata": {},
   "source": [
    "Для кодирования категориальных признаков есть множество подходов:\n",
    "* Label Encoding\n",
    "* One-Hot Encoding\n",
    "* Target Encoding\n",
    "* Hashing\n",
    "\n",
    "Выбор кодирования зависит от признака и выбраной модели.\n",
    "Не будем сейчас сильно погружаться в эту тематику, давайте посмотрим лучше пример с One-Hot Encoding:\n",
    "![](https://i.imgur.com/mtimFxh.png)"
   ]
  },
  {
   "cell_type": "markdown",
   "metadata": {},
   "source": [
    "Dummy-переменные с названиями городов будут созданы после создания новых признаков, особенно после создания признака Norm_ranking (тк в нём используется столбуц City)"
   ]
  },
  {
   "cell_type": "code",
   "execution_count": 22,
   "metadata": {
    "execution": {
     "iopub.execute_input": "2021-05-22T12:10:09.300120Z",
     "iopub.status.busy": "2021-05-22T12:10:09.299839Z",
     "iopub.status.idle": "2021-05-22T12:10:09.325811Z",
     "shell.execute_reply": "2021-05-22T12:10:09.324472Z",
     "shell.execute_reply.started": "2021-05-22T12:10:09.300069Z"
    }
   },
   "outputs": [
    {
     "data": {
      "text/html": [
       "<div>\n",
       "<style scoped>\n",
       "    .dataframe tbody tr th:only-of-type {\n",
       "        vertical-align: middle;\n",
       "    }\n",
       "\n",
       "    .dataframe tbody tr th {\n",
       "        vertical-align: top;\n",
       "    }\n",
       "\n",
       "    .dataframe thead th {\n",
       "        text-align: right;\n",
       "    }\n",
       "</style>\n",
       "<table border=\"1\" class=\"dataframe\">\n",
       "  <thead>\n",
       "    <tr style=\"text-align: right;\">\n",
       "      <th></th>\n",
       "      <th>Restaurant_id</th>\n",
       "      <th>City</th>\n",
       "      <th>Cuisine Style</th>\n",
       "      <th>Ranking</th>\n",
       "      <th>Price Range</th>\n",
       "      <th>Number of Reviews</th>\n",
       "      <th>Reviews</th>\n",
       "      <th>URL_TA</th>\n",
       "      <th>ID_TA</th>\n",
       "      <th>sample</th>\n",
       "      <th>Rating</th>\n",
       "    </tr>\n",
       "  </thead>\n",
       "  <tbody>\n",
       "    <tr>\n",
       "      <th>16776</th>\n",
       "      <td>id_3085</td>\n",
       "      <td>Amsterdam</td>\n",
       "      <td>['Argentinean', 'South American']</td>\n",
       "      <td>3095.0</td>\n",
       "      <td>$$ - $$$</td>\n",
       "      <td>5.0</td>\n",
       "      <td>[['Typical Argentinian Grill but lacking a li....</td>\n",
       "      <td>/Restaurant_Review-g188590-d12519431-Reviews-L...</td>\n",
       "      <td>d12519431</td>\n",
       "      <td>1</td>\n",
       "      <td>3.0</td>\n",
       "    </tr>\n",
       "    <tr>\n",
       "      <th>31347</th>\n",
       "      <td>id_1956</td>\n",
       "      <td>Munich</td>\n",
       "      <td>['Indian', 'Balti', 'Eastern European']</td>\n",
       "      <td>1972.0</td>\n",
       "      <td>$$ - $$$</td>\n",
       "      <td>26.0</td>\n",
       "      <td>[['Great clean Indian restaurant', 'Worst serv...</td>\n",
       "      <td>/Restaurant_Review-g187309-d9695956-Reviews-Bo...</td>\n",
       "      <td>d9695956</td>\n",
       "      <td>1</td>\n",
       "      <td>3.5</td>\n",
       "    </tr>\n",
       "    <tr>\n",
       "      <th>41423</th>\n",
       "      <td>id_124</td>\n",
       "      <td>Edinburgh</td>\n",
       "      <td>['Indian', 'Asian', 'Nepali', 'Vegetarian Frie...</td>\n",
       "      <td>125.0</td>\n",
       "      <td>$$ - $$$</td>\n",
       "      <td>541.0</td>\n",
       "      <td>[['Delicious food', 'Naughty little Indian'], ...</td>\n",
       "      <td>/Restaurant_Review-g186525-d1010576-Reviews-Na...</td>\n",
       "      <td>d1010576</td>\n",
       "      <td>1</td>\n",
       "      <td>4.5</td>\n",
       "    </tr>\n",
       "    <tr>\n",
       "      <th>3510</th>\n",
       "      <td>id_3510</td>\n",
       "      <td>Lyon</td>\n",
       "      <td>['Vegetarian Friendly']</td>\n",
       "      <td>2616.0</td>\n",
       "      <td>$$ - $$$</td>\n",
       "      <td>7.0</td>\n",
       "      <td>[[], []]</td>\n",
       "      <td>/Restaurant_Review-g661468-d8297197-Reviews-Mc...</td>\n",
       "      <td>d8297197</td>\n",
       "      <td>0</td>\n",
       "      <td>0.0</td>\n",
       "    </tr>\n",
       "    <tr>\n",
       "      <th>29358</th>\n",
       "      <td>id_7303</td>\n",
       "      <td>Madrid</td>\n",
       "      <td>['Pizza']</td>\n",
       "      <td>7308.0</td>\n",
       "      <td>$$ - $$$</td>\n",
       "      <td>0.0</td>\n",
       "      <td>[[], []]</td>\n",
       "      <td>/Restaurant_Review-g187514-d5487276-Reviews-Te...</td>\n",
       "      <td>d5487276</td>\n",
       "      <td>1</td>\n",
       "      <td>3.0</td>\n",
       "    </tr>\n",
       "  </tbody>\n",
       "</table>\n",
       "</div>"
      ],
      "text/plain": [
       "      Restaurant_id       City  \\\n",
       "16776       id_3085  Amsterdam   \n",
       "31347       id_1956     Munich   \n",
       "41423        id_124  Edinburgh   \n",
       "3510        id_3510       Lyon   \n",
       "29358       id_7303     Madrid   \n",
       "\n",
       "                                           Cuisine Style  Ranking Price Range  \\\n",
       "16776                  ['Argentinean', 'South American']   3095.0    $$ - $$$   \n",
       "31347            ['Indian', 'Balti', 'Eastern European']   1972.0    $$ - $$$   \n",
       "41423  ['Indian', 'Asian', 'Nepali', 'Vegetarian Frie...    125.0    $$ - $$$   \n",
       "3510                             ['Vegetarian Friendly']   2616.0    $$ - $$$   \n",
       "29358                                          ['Pizza']   7308.0    $$ - $$$   \n",
       "\n",
       "       Number of Reviews                                            Reviews  \\\n",
       "16776                5.0  [['Typical Argentinian Grill but lacking a li....   \n",
       "31347               26.0  [['Great clean Indian restaurant', 'Worst serv...   \n",
       "41423              541.0  [['Delicious food', 'Naughty little Indian'], ...   \n",
       "3510                 7.0                                           [[], []]   \n",
       "29358                0.0                                           [[], []]   \n",
       "\n",
       "                                                  URL_TA      ID_TA  sample  \\\n",
       "16776  /Restaurant_Review-g188590-d12519431-Reviews-L...  d12519431       1   \n",
       "31347  /Restaurant_Review-g187309-d9695956-Reviews-Bo...   d9695956       1   \n",
       "41423  /Restaurant_Review-g186525-d1010576-Reviews-Na...   d1010576       1   \n",
       "3510   /Restaurant_Review-g661468-d8297197-Reviews-Mc...   d8297197       0   \n",
       "29358  /Restaurant_Review-g187514-d5487276-Reviews-Te...   d5487276       1   \n",
       "\n",
       "       Rating  \n",
       "16776     3.0  \n",
       "31347     3.5  \n",
       "41423     4.5  \n",
       "3510      0.0  \n",
       "29358     3.0  "
      ]
     },
     "execution_count": 22,
     "metadata": {},
     "output_type": "execute_result"
    }
   ],
   "source": [
    "data.sample(5)"
   ]
  },
  {
   "cell_type": "markdown",
   "metadata": {},
   "source": [
    "#### Возьмем следующий признак \"Price Range\"."
   ]
  },
  {
   "cell_type": "code",
   "execution_count": 23,
   "metadata": {
    "execution": {
     "iopub.execute_input": "2021-05-22T12:10:09.328083Z",
     "iopub.status.busy": "2021-05-22T12:10:09.327696Z",
     "iopub.status.idle": "2021-05-22T12:10:09.350815Z",
     "shell.execute_reply": "2021-05-22T12:10:09.349718Z",
     "shell.execute_reply.started": "2021-05-22T12:10:09.328012Z"
    }
   },
   "outputs": [
    {
     "data": {
      "text/plain": [
       "$$ - $$$    40402\n",
       "$            7816\n",
       "$$$$         1782\n",
       "Name: Price Range, dtype: int64"
      ]
     },
     "execution_count": 23,
     "metadata": {},
     "output_type": "execute_result"
    }
   ],
   "source": [
    "data['Price Range'].value_counts()"
   ]
  },
  {
   "cell_type": "markdown",
   "metadata": {},
   "source": [
    "По описанию 'Price Range' это - Цены в ресторане.  \n",
    "Их можно поставить по возрастанию (значит это не категориальный признак). А это значит, что их можно заменить последовательными числами, например 1,2,3  \n",
    "*Попробуйте сделать обработку этого признака уже самостоятельно!*"
   ]
  },
  {
   "cell_type": "markdown",
   "metadata": {},
   "source": [
    "> Для некоторых алгоритмов МЛ даже для не категориальных признаков можно применить One-Hot Encoding, и это может улучшить качество модели. Пробуйте разные подходы к кодированию признака - никто не знает заранее, что может взлететь."
   ]
  },
  {
   "cell_type": "markdown",
   "metadata": {},
   "source": [
    "### Обработать другие признаки вы должны самостоятельно!\n",
    "Для обработки других признаков вам возможно придется даже написать свою функцию, а может даже и не одну, но в этом и есть ваша практика в этом модуле!     \n",
    "Следуя подсказкам в модуле вы сможете более подробно узнать, как сделать эти приобразования."
   ]
  },
  {
   "cell_type": "code",
   "execution_count": 24,
   "metadata": {
    "execution": {
     "iopub.execute_input": "2021-05-22T12:10:09.352913Z",
     "iopub.status.busy": "2021-05-22T12:10:09.352517Z",
     "iopub.status.idle": "2021-05-22T12:10:09.357746Z",
     "shell.execute_reply": "2021-05-22T12:10:09.356587Z",
     "shell.execute_reply.started": "2021-05-22T12:10:09.352842Z"
    }
   },
   "outputs": [],
   "source": [
    "# тут ваш код на обработку других признаков\n",
    "# ....."
   ]
  },
  {
   "cell_type": "code",
   "execution_count": 25,
   "metadata": {
    "execution": {
     "iopub.execute_input": "2021-05-22T12:10:09.358979Z",
     "iopub.status.busy": "2021-05-22T12:10:09.358754Z",
     "iopub.status.idle": "2021-05-22T12:10:09.402909Z",
     "shell.execute_reply": "2021-05-22T12:10:09.401853Z",
     "shell.execute_reply.started": "2021-05-22T12:10:09.358946Z"
    }
   },
   "outputs": [],
   "source": [
    "# Обработка 'Price Range' Б.1)- перевод в цифры\n",
    "data['Price Range Dig'] = data['Price Range'].apply(lambda x: 1 if x=='$' else 2 if x=='$$ - $$$'  else 3 if x=='$$$$' else 0)"
   ]
  },
  {
   "cell_type": "code",
   "execution_count": 26,
   "metadata": {
    "execution": {
     "iopub.execute_input": "2021-05-22T12:10:09.404600Z",
     "iopub.status.busy": "2021-05-22T12:10:09.404292Z",
     "iopub.status.idle": "2021-05-22T12:10:09.783193Z",
     "shell.execute_reply": "2021-05-22T12:10:09.781954Z",
     "shell.execute_reply.started": "2021-05-22T12:10:09.404536Z"
    }
   },
   "outputs": [],
   "source": [
    "# Б.2) Создание признака настроений moods:\n",
    "    good_words = ['good', 'best', 'wonderful', 'nice', 'awesome', 'lovely', 'brilliant', 'amazing', 'excellent', 'great', 'delicious', 'tasty']\n",
    "    bad_words = ['wasting', 'terrible', 'horrible', 'worst', 'expensive', 'tasty', 'awful', 'poor', 'shame', 'overpriced', 'slow', 'rude']\n",
    "    moods = list()\n",
    "    \n",
    "    # Функция mood, считающая, каких слов больше, негативных или положительных\n",
    "    def mood(good, bad):\n",
    "            if good-bad >0:\n",
    "                return 1\n",
    "            elif good-bad <0:\n",
    "                return -1\n",
    "            else:\n",
    "                return 0\n",
    "            \n",
    "    # цикл для заполнения списка moods 1, -1 либо 0, в случае, если не определено настроение\n",
    "    for i in data.Reviews:\n",
    "        cnt_good = 0\n",
    "        cnt_bad = 0\n",
    "        # print(i, type(i))\n",
    "        stroka = i.lower()\n",
    "        str_words = stroka.split('],')[0]\n",
    "\n",
    "        # str_words = [word.strip('.,!;()[]') for word in str_words]\n",
    "        str_words = str_words.strip('.,!;()[]')\n",
    "        str_words = str_words.split()\n",
    "        str_words = [word.replace(\"'\",'') for word in str_words]\n",
    "        # print(str_words)\n",
    "        for w in str_words:\n",
    "            if w in good_words:\n",
    "                cnt_good+=1\n",
    "            elif w in bad_words:\n",
    "                cnt_bad+=1\n",
    "        moods.append(mood(cnt_good, cnt_bad))\n",
    "    \n",
    "    moods_df = pd.DataFrame({\"Mood\":moods})   \n",
    "    data['moods'] = moods_df"
   ]
  },
  {
   "cell_type": "code",
   "execution_count": 27,
   "metadata": {
    "execution": {
     "iopub.execute_input": "2021-05-22T12:10:09.784839Z",
     "iopub.status.busy": "2021-05-22T12:10:09.784539Z",
     "iopub.status.idle": "2021-05-22T12:10:09.790982Z",
     "shell.execute_reply": "2021-05-22T12:10:09.790085Z",
     "shell.execute_reply.started": "2021-05-22T12:10:09.784793Z"
    }
   },
   "outputs": [
    {
     "data": {
      "text/plain": [
       "0    0\n",
       "1    1\n",
       "2    0\n",
       "3    1\n",
       "4    1\n",
       "Name: moods, dtype: int64"
      ]
     },
     "execution_count": 27,
     "metadata": {},
     "output_type": "execute_result"
    }
   ],
   "source": [
    "data.moods.head()"
   ]
  },
  {
   "cell_type": "code",
   "execution_count": 28,
   "metadata": {
    "execution": {
     "iopub.execute_input": "2021-05-22T12:10:09.792198Z",
     "iopub.status.busy": "2021-05-22T12:10:09.791956Z",
     "iopub.status.idle": "2021-05-22T12:10:09.942926Z",
     "shell.execute_reply": "2021-05-22T12:10:09.941849Z",
     "shell.execute_reply.started": "2021-05-22T12:10:09.792156Z"
    }
   },
   "outputs": [],
   "source": [
    "# Б3 Признак Cuisine_count - количество кухонь ресторана\n",
    "data['Cuisine_count'] = data['Cuisine Style'].str.split(',').apply(lambda x: 1 if str(x) == 'nan' else len(x))"
   ]
  },
  {
   "cell_type": "code",
   "execution_count": 29,
   "metadata": {
    "execution": {
     "iopub.execute_input": "2021-05-22T12:10:09.944475Z",
     "iopub.status.busy": "2021-05-22T12:10:09.944226Z",
     "iopub.status.idle": "2021-05-22T12:10:09.958397Z",
     "shell.execute_reply": "2021-05-22T12:10:09.957531Z",
     "shell.execute_reply.started": "2021-05-22T12:10:09.944432Z"
    }
   },
   "outputs": [
    {
     "data": {
      "text/html": [
       "<div>\n",
       "<style scoped>\n",
       "    .dataframe tbody tr th:only-of-type {\n",
       "        vertical-align: middle;\n",
       "    }\n",
       "\n",
       "    .dataframe tbody tr th {\n",
       "        vertical-align: top;\n",
       "    }\n",
       "\n",
       "    .dataframe thead th {\n",
       "        text-align: right;\n",
       "    }\n",
       "</style>\n",
       "<table border=\"1\" class=\"dataframe\">\n",
       "  <thead>\n",
       "    <tr style=\"text-align: right;\">\n",
       "      <th></th>\n",
       "      <th>Cuisine_count</th>\n",
       "      <th>Cuisine Style</th>\n",
       "    </tr>\n",
       "  </thead>\n",
       "  <tbody>\n",
       "    <tr>\n",
       "      <th>0</th>\n",
       "      <td>2</td>\n",
       "      <td>['Bar', 'Pub']</td>\n",
       "    </tr>\n",
       "    <tr>\n",
       "      <th>1</th>\n",
       "      <td>5</td>\n",
       "      <td>['European', 'Scandinavian', 'Gluten Free Opti...</td>\n",
       "    </tr>\n",
       "    <tr>\n",
       "      <th>2</th>\n",
       "      <td>1</td>\n",
       "      <td>['Vegetarian Friendly']</td>\n",
       "    </tr>\n",
       "    <tr>\n",
       "      <th>3</th>\n",
       "      <td>5</td>\n",
       "      <td>['Italian', 'Mediterranean', 'European', 'Vege...</td>\n",
       "    </tr>\n",
       "    <tr>\n",
       "      <th>4</th>\n",
       "      <td>6</td>\n",
       "      <td>['Italian', 'Mediterranean', 'European', 'Seaf...</td>\n",
       "    </tr>\n",
       "  </tbody>\n",
       "</table>\n",
       "</div>"
      ],
      "text/plain": [
       "   Cuisine_count                                      Cuisine Style\n",
       "0              2                                     ['Bar', 'Pub']\n",
       "1              5  ['European', 'Scandinavian', 'Gluten Free Opti...\n",
       "2              1                            ['Vegetarian Friendly']\n",
       "3              5  ['Italian', 'Mediterranean', 'European', 'Vege...\n",
       "4              6  ['Italian', 'Mediterranean', 'European', 'Seaf..."
      ]
     },
     "execution_count": 29,
     "metadata": {},
     "output_type": "execute_result"
    }
   ],
   "source": [
    "data[['Cuisine_count', 'Cuisine Style']].head()"
   ]
  },
  {
   "cell_type": "markdown",
   "metadata": {},
   "source": [
    "![](https://cs10.pikabu.ru/post_img/2018/09/06/11/1536261023140110012.jpg)"
   ]
  },
  {
   "cell_type": "markdown",
   "metadata": {},
   "source": [
    "# EDA \n",
    "[Exploratory Data Analysis](https://ru.wikipedia.org/wiki/Разведочный_анализ_данных) - Анализ данных\n",
    "На этом этапе мы строим графики, ищем закономерности, аномалии, выбросы или связи между признаками.\n",
    "В общем цель этого этапа понять, что эти данные могут нам дать и как признаки могут быть взаимосвязаны между собой.\n",
    "Понимание изначальных признаков позволит сгенерировать новые, более сильные и, тем самым, сделать нашу модель лучше.\n",
    "![](https://miro.medium.com/max/2598/1*RXdMb7Uk6mGqWqPguHULaQ.png)"
   ]
  },
  {
   "cell_type": "markdown",
   "metadata": {},
   "source": [
    "### Посмотрим распределение признака"
   ]
  },
  {
   "cell_type": "code",
   "execution_count": 30,
   "metadata": {
    "execution": {
     "iopub.execute_input": "2021-05-22T12:10:09.960439Z",
     "iopub.status.busy": "2021-05-22T12:10:09.960147Z",
     "iopub.status.idle": "2021-05-22T12:10:10.546008Z",
     "shell.execute_reply": "2021-05-22T12:10:10.544838Z",
     "shell.execute_reply.started": "2021-05-22T12:10:09.960383Z"
    }
   },
   "outputs": [
    {
     "data": {
      "text/plain": [
       "<matplotlib.axes._subplots.AxesSubplot at 0x7f5263981278>"
      ]
     },
     "execution_count": 30,
     "metadata": {},
     "output_type": "execute_result"
    },
    {
     "data": {
      "image/png": "[encoded data removed]",
      "text/plain": [
       "<Figure size 720x504 with 1 Axes>"
      ]
     },
     "metadata": {
      "needs_background": "light"
     },
     "output_type": "display_data"
    }
   ],
   "source": [
    "plt.rcParams['figure.figsize'] = (10,7)\n",
    "data['Ranking'].hist(bins=100)"
   ]
  },
  {
   "cell_type": "markdown",
   "metadata": {},
   "source": [
    "У нас много ресторанов, которые не дотягивают и до 2500 места в своем городе, а что там по городам?"
   ]
  },
  {
   "cell_type": "code",
   "execution_count": 31,
   "metadata": {
    "execution": {
     "iopub.execute_input": "2021-05-22T12:10:10.548234Z",
     "iopub.status.busy": "2021-05-22T12:10:10.547691Z",
     "iopub.status.idle": "2021-05-22T12:10:10.998081Z",
     "shell.execute_reply": "2021-05-22T12:10:10.996547Z",
     "shell.execute_reply.started": "2021-05-22T12:10:10.548173Z"
    }
   },
   "outputs": [
    {
     "data": {
      "text/plain": [
       "<matplotlib.axes._subplots.AxesSubplot at 0x7f527cc4c080>"
      ]
     },
     "execution_count": 31,
     "metadata": {},
     "output_type": "execute_result"
    },
    {
     "data": {
      "image/png": "[encoded data removed]",
      "text/plain": [
       "<Figure size 720x504 with 1 Axes>"
      ]
     },
     "metadata": {
      "needs_background": "light"
     },
     "output_type": "display_data"
    }
   ],
   "source": [
    "df_train['City'].value_counts(ascending=True).plot(kind='barh')"
   ]
  },
  {
   "cell_type": "markdown",
   "metadata": {},
   "source": [
    "А кто-то говорил, что французы любят поесть=) Посмотрим, как изменится распределение в большом городе:"
   ]
  },
  {
   "cell_type": "code",
   "execution_count": 32,
   "metadata": {
    "execution": {
     "iopub.execute_input": "2021-05-22T12:10:11.000843Z",
     "iopub.status.busy": "2021-05-22T12:10:11.000237Z",
     "iopub.status.idle": "2021-05-22T12:10:11.524825Z",
     "shell.execute_reply": "2021-05-22T12:10:11.523302Z",
     "shell.execute_reply.started": "2021-05-22T12:10:11.000608Z"
    }
   },
   "outputs": [
    {
     "data": {
      "text/plain": [
       "<matplotlib.axes._subplots.AxesSubplot at 0x7f527cb2b4e0>"
      ]
     },
     "execution_count": 32,
     "metadata": {},
     "output_type": "execute_result"
    },
    {
     "data": {
      "image/png": "[encoded data removed]",
      "text/plain": [
       "<Figure size 720x504 with 1 Axes>"
      ]
     },
     "metadata": {
      "needs_background": "light"
     },
     "output_type": "display_data"
    }
   ],
   "source": [
    "df_train['Ranking'][df_train['City'] =='London'].hist(bins=100)"
   ]
  },
  {
   "cell_type": "code",
   "execution_count": 33,
   "metadata": {
    "execution": {
     "iopub.execute_input": "2021-05-22T12:10:11.528641Z",
     "iopub.status.busy": "2021-05-22T12:10:11.526986Z",
     "iopub.status.idle": "2021-05-22T12:10:14.241491Z",
     "shell.execute_reply": "2021-05-22T12:10:14.240409Z",
     "shell.execute_reply.started": "2021-05-22T12:10:11.527353Z"
    }
   },
   "outputs": [
    {
     "data": {
      "image/png": "[encoded data removed]",
      "text/plain": [
       "<Figure size 720x504 with 1 Axes>"
      ]
     },
     "metadata": {
      "needs_background": "light"
     },
     "output_type": "display_data"
    }
   ],
   "source": [
    "# посмотрим на топ 10 городов\n",
    "for x in (df_train['City'].value_counts())[0:10].index:\n",
    "    df_train['Ranking'][df_train['City'] == x].hist(bins=100)\n",
    "plt.show()"
   ]
  },
  {
   "cell_type": "markdown",
   "metadata": {},
   "source": [
    "Получается, что Ranking имеет нормальное распределение, просто в больших городах больше ресторанов, из-за мы этого имеем смещение.\n",
    "\n",
    ">Подумайте как из этого можно сделать признак для вашей модели. Я покажу вам пример, как визуализация помогает находить взаимосвязи. А далее действуйте без подсказок =) \n"
   ]
  },
  {
   "cell_type": "code",
   "execution_count": 34,
   "metadata": {
    "execution": {
     "iopub.execute_input": "2021-05-22T12:10:14.244384Z",
     "iopub.status.busy": "2021-05-22T12:10:14.243582Z",
     "iopub.status.idle": "2021-05-22T12:10:14.268404Z",
     "shell.execute_reply": "2021-05-22T12:10:14.267384Z",
     "shell.execute_reply.started": "2021-05-22T12:10:14.244315Z"
    }
   },
   "outputs": [
    {
     "data": {
      "text/plain": [
       "London       5757\n",
       "Paris        4897\n",
       "Madrid       3108\n",
       "Barcelona    2734\n",
       "Berlin       2155\n",
       "Milan        2133\n",
       "Rome         2078\n",
       "Prague       1443\n",
       "Lisbon       1300\n",
       "Vienna       1166\n",
       "Name: City, dtype: int64"
      ]
     },
     "execution_count": 34,
     "metadata": {},
     "output_type": "execute_result"
    }
   ],
   "source": [
    "df_train['City'].value_counts()[0:10]"
   ]
  },
  {
   "cell_type": "markdown",
   "metadata": {},
   "source": [
    "Необходимо нормализовать признак Ranking - привести к одной шкале для всех городов, таким образом, чтобы отразить пропорции"
   ]
  },
  {
   "cell_type": "code",
   "execution_count": 35,
   "metadata": {
    "execution": {
     "iopub.execute_input": "2021-05-22T12:10:14.271110Z",
     "iopub.status.busy": "2021-05-22T12:10:14.270320Z",
     "iopub.status.idle": "2021-05-22T12:22:49.793844Z",
     "shell.execute_reply": "2021-05-22T12:22:49.792890Z",
     "shell.execute_reply.started": "2021-05-22T12:10:14.271051Z"
    }
   },
   "outputs": [],
   "source": [
    "# Создание массива с единым масштабированием для всех признаков и присвоение колонке Norm_ranking - нормализация\n",
    "norm_rankings = []\n",
    "for i in data.index:\n",
    "    stroka = data.loc[i]\n",
    "    max_r = data.Ranking[data.City == stroka.City].max()\n",
    "    min_r = data.Ranking[data.City == stroka.City].min()\n",
    "#     print(stroka.Ranking, stroka.City, (df_small.Ranking[df_small.City == stroka.City].max() -\n",
    "#      df_small.Ranking[df_small.City == stroka.City].min()))\n",
    "    norm_rankings.append((stroka.Ranking - min_r)/(max_r - min_r))\n",
    "data['Norm_ranking'] = norm_rankings\n",
    "\n",
    "# Цикл работает медленно (вероятно, медленнее чем функция из модуля библиотеки sklearn.preprocessing),\n",
    "# но пока что не понял, как можно использовать готовую функцию для нормализации в данной задаче"
   ]
  },
  {
   "cell_type": "code",
   "execution_count": 36,
   "metadata": {},
   "outputs": [
    {
     "data": {
      "image/png": "[encoded data removed]",
      "text/plain": [
       "<Figure size 720x504 with 1 Axes>"
      ]
     },
     "metadata": {
      "needs_background": "light"
     },
     "output_type": "display_data"
    }
   ],
   "source": [
    "for x in (df_train['City'].value_counts())[0:10].index:\n",
    "    df_train['Ranking'][df_train['City'] == x].hist(bins=100)\n",
    "plt.show()"
   ]
  },
  {
   "cell_type": "code",
   "execution_count": 37,
   "metadata": {
    "execution": {
     "iopub.execute_input": "2021-05-22T12:22:49.795408Z",
     "iopub.status.busy": "2021-05-22T12:22:49.795159Z",
     "iopub.status.idle": "2021-05-22T12:22:49.818268Z",
     "shell.execute_reply": "2021-05-22T12:22:49.817028Z",
     "shell.execute_reply.started": "2021-05-22T12:22:49.795367Z"
    }
   },
   "outputs": [
    {
     "data": {
      "text/html": [
       "<div>\n",
       "<style scoped>\n",
       "    .dataframe tbody tr th:only-of-type {\n",
       "        vertical-align: middle;\n",
       "    }\n",
       "\n",
       "    .dataframe tbody tr th {\n",
       "        vertical-align: top;\n",
       "    }\n",
       "\n",
       "    .dataframe thead th {\n",
       "        text-align: right;\n",
       "    }\n",
       "</style>\n",
       "<table border=\"1\" class=\"dataframe\">\n",
       "  <thead>\n",
       "    <tr style=\"text-align: right;\">\n",
       "      <th></th>\n",
       "      <th>Restaurant_id</th>\n",
       "      <th>City</th>\n",
       "      <th>Cuisine Style</th>\n",
       "      <th>Ranking</th>\n",
       "      <th>Price Range</th>\n",
       "      <th>Number of Reviews</th>\n",
       "      <th>Reviews</th>\n",
       "      <th>URL_TA</th>\n",
       "      <th>ID_TA</th>\n",
       "      <th>sample</th>\n",
       "      <th>Rating</th>\n",
       "      <th>Price Range Dig</th>\n",
       "      <th>moods</th>\n",
       "      <th>Cuisine_count</th>\n",
       "      <th>Norm_ranking</th>\n",
       "    </tr>\n",
       "  </thead>\n",
       "  <tbody>\n",
       "    <tr>\n",
       "      <th>0</th>\n",
       "      <td>id_0</td>\n",
       "      <td>Paris</td>\n",
       "      <td>['Bar', 'Pub']</td>\n",
       "      <td>12963.0</td>\n",
       "      <td>$$ - $$$</td>\n",
       "      <td>4.0</td>\n",
       "      <td>[[], []]</td>\n",
       "      <td>/Restaurant_Review-g187147-d10746918-Reviews-L...</td>\n",
       "      <td>d10746918</td>\n",
       "      <td>0</td>\n",
       "      <td>0.0</td>\n",
       "      <td>2</td>\n",
       "      <td>0</td>\n",
       "      <td>2</td>\n",
       "      <td>0.926840</td>\n",
       "    </tr>\n",
       "    <tr>\n",
       "      <th>1</th>\n",
       "      <td>id_1</td>\n",
       "      <td>Helsinki</td>\n",
       "      <td>['European', 'Scandinavian', 'Gluten Free Opti...</td>\n",
       "      <td>106.0</td>\n",
       "      <td>$$ - $$$</td>\n",
       "      <td>97.0</td>\n",
       "      <td>[['Very good reviews!', 'Fine dining in Hakani...</td>\n",
       "      <td>/Restaurant_Review-g189934-d6674944-Reviews-Ra...</td>\n",
       "      <td>d6674944</td>\n",
       "      <td>0</td>\n",
       "      <td>0.0</td>\n",
       "      <td>2</td>\n",
       "      <td>1</td>\n",
       "      <td>5</td>\n",
       "      <td>0.089710</td>\n",
       "    </tr>\n",
       "    <tr>\n",
       "      <th>2</th>\n",
       "      <td>id_2</td>\n",
       "      <td>Edinburgh</td>\n",
       "      <td>['Vegetarian Friendly']</td>\n",
       "      <td>810.0</td>\n",
       "      <td>$$ - $$$</td>\n",
       "      <td>28.0</td>\n",
       "      <td>[['Better than the Links', 'Ivy Black'], ['12/...</td>\n",
       "      <td>/Restaurant_Review-g186525-d13129638-Reviews-B...</td>\n",
       "      <td>d13129638</td>\n",
       "      <td>0</td>\n",
       "      <td>0.0</td>\n",
       "      <td>2</td>\n",
       "      <td>0</td>\n",
       "      <td>1</td>\n",
       "      <td>0.458357</td>\n",
       "    </tr>\n",
       "    <tr>\n",
       "      <th>3</th>\n",
       "      <td>id_3</td>\n",
       "      <td>London</td>\n",
       "      <td>['Italian', 'Mediterranean', 'European', 'Vege...</td>\n",
       "      <td>1669.0</td>\n",
       "      <td>$$$$</td>\n",
       "      <td>202.0</td>\n",
       "      <td>[['Most exquisite', 'Delicious and authentic']...</td>\n",
       "      <td>/Restaurant_Review-g186338-d680417-Reviews-Qui...</td>\n",
       "      <td>d680417</td>\n",
       "      <td>0</td>\n",
       "      <td>0.0</td>\n",
       "      <td>3</td>\n",
       "      <td>1</td>\n",
       "      <td>5</td>\n",
       "      <td>0.101441</td>\n",
       "    </tr>\n",
       "    <tr>\n",
       "      <th>4</th>\n",
       "      <td>id_4</td>\n",
       "      <td>Bratislava</td>\n",
       "      <td>['Italian', 'Mediterranean', 'European', 'Seaf...</td>\n",
       "      <td>37.0</td>\n",
       "      <td>$$$$</td>\n",
       "      <td>162.0</td>\n",
       "      <td>[['Always the best in bratislava', 'Very good ...</td>\n",
       "      <td>/Restaurant_Review-g274924-d1112354-Reviews-Ma...</td>\n",
       "      <td>d1112354</td>\n",
       "      <td>0</td>\n",
       "      <td>0.0</td>\n",
       "      <td>3</td>\n",
       "      <td>1</td>\n",
       "      <td>6</td>\n",
       "      <td>0.038375</td>\n",
       "    </tr>\n",
       "  </tbody>\n",
       "</table>\n",
       "</div>"
      ],
      "text/plain": [
       "  Restaurant_id        City  \\\n",
       "0          id_0       Paris   \n",
       "1          id_1    Helsinki   \n",
       "2          id_2   Edinburgh   \n",
       "3          id_3      London   \n",
       "4          id_4  Bratislava   \n",
       "\n",
       "                                       Cuisine Style  Ranking Price Range  \\\n",
       "0                                     ['Bar', 'Pub']  12963.0    $$ - $$$   \n",
       "1  ['European', 'Scandinavian', 'Gluten Free Opti...    106.0    $$ - $$$   \n",
       "2                            ['Vegetarian Friendly']    810.0    $$ - $$$   \n",
       "3  ['Italian', 'Mediterranean', 'European', 'Vege...   1669.0        $$$$   \n",
       "4  ['Italian', 'Mediterranean', 'European', 'Seaf...     37.0        $$$$   \n",
       "\n",
       "   Number of Reviews                                            Reviews  \\\n",
       "0                4.0                                           [[], []]   \n",
       "1               97.0  [['Very good reviews!', 'Fine dining in Hakani...   \n",
       "2               28.0  [['Better than the Links', 'Ivy Black'], ['12/...   \n",
       "3              202.0  [['Most exquisite', 'Delicious and authentic']...   \n",
       "4              162.0  [['Always the best in bratislava', 'Very good ...   \n",
       "\n",
       "                                              URL_TA      ID_TA  sample  \\\n",
       "0  /Restaurant_Review-g187147-d10746918-Reviews-L...  d10746918       0   \n",
       "1  /Restaurant_Review-g189934-d6674944-Reviews-Ra...   d6674944       0   \n",
       "2  /Restaurant_Review-g186525-d13129638-Reviews-B...  d13129638       0   \n",
       "3  /Restaurant_Review-g186338-d680417-Reviews-Qui...    d680417       0   \n",
       "4  /Restaurant_Review-g274924-d1112354-Reviews-Ma...   d1112354       0   \n",
       "\n",
       "   Rating  Price Range Dig  moods  Cuisine_count  Norm_ranking  \n",
       "0     0.0                2      0              2      0.926840  \n",
       "1     0.0                2      1              5      0.089710  \n",
       "2     0.0                2      0              1      0.458357  \n",
       "3     0.0                3      1              5      0.101441  \n",
       "4     0.0                3      1              6      0.038375  "
      ]
     },
     "execution_count": 37,
     "metadata": {},
     "output_type": "execute_result"
    }
   ],
   "source": [
    "data.head()"
   ]
  },
  {
   "cell_type": "markdown",
   "metadata": {},
   "source": [
    "### Посмотрим распределение целевой переменной"
   ]
  },
  {
   "cell_type": "code",
   "execution_count": 38,
   "metadata": {
    "execution": {
     "iopub.execute_input": "2021-05-22T12:22:49.820314Z",
     "iopub.status.busy": "2021-05-22T12:22:49.819890Z",
     "iopub.status.idle": "2021-05-22T12:22:50.108411Z",
     "shell.execute_reply": "2021-05-22T12:22:50.107403Z",
     "shell.execute_reply.started": "2021-05-22T12:22:49.820214Z"
    }
   },
   "outputs": [
    {
     "data": {
      "text/plain": [
       "<matplotlib.axes._subplots.AxesSubplot at 0x7f5263abde10>"
      ]
     },
     "execution_count": 38,
     "metadata": {},
     "output_type": "execute_result"
    },
    {
     "data": {
      "image/png": "[encoded data removed]",
      "text/plain": [
       "<Figure size 720x504 with 1 Axes>"
      ]
     },
     "metadata": {
      "needs_background": "light"
     },
     "output_type": "display_data"
    }
   ],
   "source": [
    "data['Rating'].value_counts(ascending=True).plot(kind='barh')"
   ]
  },
  {
   "cell_type": "markdown",
   "metadata": {},
   "source": [
    "### Посмотрим распределение целевой переменной относительно признака"
   ]
  },
  {
   "cell_type": "code",
   "execution_count": 39,
   "metadata": {
    "execution": {
     "iopub.execute_input": "2021-05-22T12:22:50.110544Z",
     "iopub.status.busy": "2021-05-22T12:22:50.110014Z",
     "iopub.status.idle": "2021-05-22T12:22:50.610641Z",
     "shell.execute_reply": "2021-05-22T12:22:50.609829Z",
     "shell.execute_reply.started": "2021-05-22T12:22:50.110486Z"
    }
   },
   "outputs": [
    {
     "data": {
      "text/plain": [
       "<matplotlib.axes._subplots.AxesSubplot at 0x7f5263832a20>"
      ]
     },
     "execution_count": 39,
     "metadata": {},
     "output_type": "execute_result"
    },
    {
     "data": {
      "image/png": "[encoded data removed]",
      "text/plain": [
       "<Figure size 720x504 with 1 Axes>"
      ]
     },
     "metadata": {
      "needs_background": "light"
     },
     "output_type": "display_data"
    }
   ],
   "source": [
    "data['Ranking'][data['Rating'] == 5].hist(bins=100)"
   ]
  },
  {
   "cell_type": "code",
   "execution_count": 40,
   "metadata": {
    "execution": {
     "iopub.execute_input": "2021-05-22T12:22:50.613154Z",
     "iopub.status.busy": "2021-05-22T12:22:50.612547Z",
     "iopub.status.idle": "2021-05-22T12:22:51.117959Z",
     "shell.execute_reply": "2021-05-22T12:22:51.116562Z",
     "shell.execute_reply.started": "2021-05-22T12:22:50.613029Z"
    }
   },
   "outputs": [
    {
     "data": {
      "text/plain": [
       "<matplotlib.axes._subplots.AxesSubplot at 0x7f5260a87a90>"
      ]
     },
     "execution_count": 40,
     "metadata": {},
     "output_type": "execute_result"
    },
    {
     "data": {
      "image/png": "[encoded data removed]",
      "text/plain": [
       "<Figure size 720x504 with 1 Axes>"
      ]
     },
     "metadata": {
      "needs_background": "light"
     },
     "output_type": "display_data"
    }
   ],
   "source": [
    "data['Ranking'][data['Rating'] < 4].hist(bins=100)"
   ]
  },
  {
   "cell_type": "markdown",
   "metadata": {},
   "source": [
    "### И один из моих любимых - [корреляция признаков](https://ru.wikipedia.org/wiki/Корреляция)\n",
    "На этом графике уже сейчас вы сможете заметить, как признаки связаны между собой и с целевой переменной."
   ]
  },
  {
   "cell_type": "code",
   "execution_count": 41,
   "metadata": {
    "execution": {
     "iopub.execute_input": "2021-05-22T12:22:51.120580Z",
     "iopub.status.busy": "2021-05-22T12:22:51.119944Z",
     "iopub.status.idle": "2021-05-22T12:22:51.569789Z",
     "shell.execute_reply": "2021-05-22T12:22:51.568352Z",
     "shell.execute_reply.started": "2021-05-22T12:22:51.120287Z"
    }
   },
   "outputs": [
    {
     "data": {
      "text/plain": [
       "<matplotlib.axes._subplots.AxesSubplot at 0x7f5262e60630>"
      ]
     },
     "execution_count": 41,
     "metadata": {},
     "output_type": "execute_result"
    },
    {
     "data": {
      "image/png": "[encoded data removed]",
      "text/plain": [
       "<Figure size 1080x720 with 2 Axes>"
      ]
     },
     "metadata": {
      "needs_background": "light"
     },
     "output_type": "display_data"
    }
   ],
   "source": [
    "plt.rcParams['figure.figsize'] = (15,10)\n",
    "sns.heatmap(data.drop(['sample'], axis=1).corr(),)"
   ]
  },
  {
   "cell_type": "markdown",
   "metadata": {},
   "source": [
    "Вообще благодаря визуализации в этом датасете можно узнать много интересных фактов, например:\n",
    "* где больше Пицерий в Мадриде или Лондоне?\n",
    "* в каком городе кухня ресторанов более разнообразна?\n",
    "\n",
    "придумайте свои вопрос и найдите на него ответ в данных)"
   ]
  },
  {
   "cell_type": "markdown",
   "metadata": {},
   "source": [
    "Видно, что Количество отзывов и ценовой диапазон коррелируют"
   ]
  },
  {
   "cell_type": "code",
   "execution_count": 42,
   "metadata": {
    "execution": {
     "iopub.execute_input": "2021-05-22T12:22:51.572536Z",
     "iopub.status.busy": "2021-05-22T12:22:51.571973Z",
     "iopub.status.idle": "2021-05-22T12:22:51.625052Z",
     "shell.execute_reply": "2021-05-22T12:22:51.623959Z",
     "shell.execute_reply.started": "2021-05-22T12:22:51.572309Z"
    }
   },
   "outputs": [],
   "source": [
    "# Делаем Dummy-переменные\n",
    "data = pd.get_dummies(data, columns=[ 'City',], dummy_na=True)"
   ]
  },
  {
   "cell_type": "markdown",
   "metadata": {},
   "source": [
    "# Data Preprocessing\n",
    "Теперь, для удобства и воспроизводимости кода, завернем всю обработку в одну большую функцию."
   ]
  },
  {
   "cell_type": "markdown",
   "metadata": {
    "execution": {
     "iopub.execute_input": "2021-05-22T12:22:51.626613Z",
     "iopub.status.busy": "2021-05-22T12:22:51.626269Z",
     "iopub.status.idle": "2021-05-22T12:22:51.633503Z",
     "shell.execute_reply": "2021-05-22T12:22:51.632255Z",
     "shell.execute_reply.started": "2021-05-22T12:22:51.626531Z"
    }
   },
   "source": [
    "В функцию почти ничего заворачивать не стал,поскольку работает слишком медленно и тяжело искать ошибки. \n",
    "Если будет больше времени, доделаю.\n",
    "В функции всё, что было выше, закомментировано."
   ]
  },
  {
   "cell_type": "code",
   "execution_count": 43,
   "metadata": {
    "execution": {
     "iopub.status.busy": "2021-05-22T12:22:51.635069Z",
     "iopub.status.idle": "2021-05-22T12:22:51.635689Z"
    }
   },
   "outputs": [],
   "source": [
    "def preproc_data(df_input):\n",
    "    '''includes several functions to pre-process the predictor data.'''\n",
    "    \n",
    "    df_output = df_input.copy()\n",
    "    \n",
    "    # ################### 1. Предобработка ############################################################## \n",
    "    # убираем не нужные для модели признаки\n",
    "    df_output.drop(['Restaurant_id','ID_TA',], axis = 1, inplace=True)\n",
    "    \n",
    "    \n",
    "    # ################### 2. NAN ############################################################## \n",
    "    # Далее заполняем пропуски, вы можете попробовать заполнением средним или средним по городу и тд...\n",
    "#     df_output['Number of Reviews'].fillna(0, inplace=True)\n",
    "#     # тут ваш код по обработке NAN\n",
    "#     # ....\n",
    "#     df_output['Reviews'].fillna('[]', inplace=True)\n",
    "    \n",
    "#     # Заполнение Cuisine Style самым частым значением\n",
    "#     df_output['Cuisine Style'] = df_output['Cuisine Style'].fillna(\"['Vegetarian Friendly']\")\n",
    "    \n",
    "#     # Заполнение признака Number of Reviews средним значением\n",
    "#     df_output['Number of Reviews'].fillna(np.mean(df_output['Number of Reviews']), inplace =True)\n",
    "    \n",
    "#     # Заполнение Price Range  самым частым значением\n",
    "#     df_output['Price Range'].fillna('$$ - $$$', inplace=True)\n",
    "    \n",
    "    # ################### 3. Encoding ############################################################## \n",
    "    # для One-Hot Encoding в pandas есть готовая функция - get_dummies. Особенно радует параметр dummy_na\n",
    "    #df_output = pd.get_dummies(df_output, columns=[ 'City',], dummy_na=True)\n",
    "    # тут ваш код не Encoding фитчей\n",
    "    # ....\n",
    "    \n",
    "    # Создание массива с единым масштабированием для всех признаков и присвоение колонке Norm_ranking\n",
    "#     norm_rankings = []\n",
    "#     for i in df_output.index:\n",
    "#         stroka = df_output.loc[i]\n",
    "#         max_r = df_output.Ranking[df_output.City == stroka.City].max()\n",
    "#         min_r = df_output.Ranking[df_output.City == stroka.City].min()\n",
    "#     #     print(stroka.Ranking, stroka.City, (df_small.Ranking[df_small.City == stroka.City].max() -\n",
    "#     #      df_small.Ranking[df_small.City == stroka.City].min()))\n",
    "#         norm_rankings.append((stroka.Ranking - min_r)/(max_r - min_r))\n",
    "#     df_output['Norm_ranking'] = norm_rankings\n",
    "    \n",
    "    \n",
    "    \n",
    "    # ################### 4. Feature Engineering ####################################################\n",
    "    # тут ваш код не генерацию новых фитчей\n",
    "    # ....\n",
    "    \n",
    "    # Б.1) Создание признака настроений moods с :\n",
    "    \n",
    "    # Списки негативных и положительных слов\n",
    "#     good_words = ['good', 'best', 'wonderful', 'nice', 'awesome', 'lovely', 'brilliant', 'amazing', 'excellent', 'great', 'delicious', 'tasty']\n",
    "#     bad_words = ['wasting', 'terrible', 'horrible', 'worst', 'expensive', 'tasty', 'awful', 'poor', 'shame', 'overpriced', 'slow', 'rude']\n",
    "#     moods = list()\n",
    "    \n",
    "#     # Функция mood, считающая, каких слов больше, негативных или положительных\n",
    "#     def mood(good, bad):\n",
    "#             if good-bad >0:\n",
    "#                 return 1\n",
    "#             elif good-bad <0:\n",
    "#                 return -1\n",
    "#             else:\n",
    "#                 return 0\n",
    "#     # цикл для заполнения списка moods 1, -1 либо 0, в случае, если не определено настроение\n",
    "#     for i in df_output.Reviews:\n",
    "#         cnt_good = 0\n",
    "#         cnt_bad = 0\n",
    "#         print(i, type(i))\n",
    "#         stroka = i.lower()\n",
    "#         str_words = stroka.split('],')[0]\n",
    "\n",
    "#         #str_words = [word.strip('.,!;()[]') for word in str_words]\n",
    "#         str_words = str_words.strip('.,!;()[]')\n",
    "#         str_words = str_words.split()\n",
    "#         str_words = [word.replace(\"'\",'') for word in str_words]\n",
    "        #print(str_words)\n",
    "#         for w in str_words:\n",
    "#             if w in good_words:\n",
    "#                 cnt_good+=1\n",
    "#             elif w in bad_words:\n",
    "#                 cnt_bad+=1\n",
    "#         moods.append(mood(cnt_good, cnt_bad))\n",
    "#         moods_df = pd.DataFrame({\"Mood\":moods})\n",
    "#         df_output['moods'] = moods_df\n",
    "        \n",
    "    # Б.2) Перевод $ в цифры в признаке Price Range Dig\n",
    "    # А.2) Проблему отсутсвия данных решаем частично: ставим 0 в числовом столбце\n",
    "    #df_output['Price Range Dig'] = df_output['Price Range'].apply(lambda x: 1 if x=='$' else 2 if x=='$$ - $$$' else 3 if x=='$$$$' else 0)\n",
    "    \n",
    "    # Б.3) Признак Cuisine_count - количество кухонь ресторана\n",
    "    #df_output['Cuisine_count'] = df_output['Cuisine Style'].str.split(',').apply(lambda x: 1 if str(x) == 'nan' else len(x))\n",
    "    \n",
    "    \n",
    "    # ################### 5. Clean #################################################### \n",
    "    # убираем признаки которые еще не успели обработать, \n",
    "    # модель на признаках с dtypes \"object\" обучаться не будет, просто выберим их и удалим\n",
    "    object_columns = [s for s in df_output.columns if df_output[s].dtypes == 'object']\n",
    "    df_output.drop(object_columns, axis = 1, inplace=True)\n",
    "    \n",
    "    return df_output"
   ]
  },
  {
   "cell_type": "markdown",
   "metadata": {},
   "source": [
    ">По хорошему, можно было бы перевести эту большую функцию в класс и разбить на подфункции (согласно ООП). "
   ]
  },
  {
   "cell_type": "markdown",
   "metadata": {},
   "source": [
    "#### Запускаем и проверяем что получилось"
   ]
  },
  {
   "cell_type": "code",
   "execution_count": 44,
   "metadata": {
    "execution": {
     "iopub.status.busy": "2021-05-22T12:22:51.637214Z",
     "iopub.status.idle": "2021-05-22T12:22:51.637830Z"
    }
   },
   "outputs": [
    {
     "data": {
      "text/html": [
       "<div>\n",
       "<style scoped>\n",
       "    .dataframe tbody tr th:only-of-type {\n",
       "        vertical-align: middle;\n",
       "    }\n",
       "\n",
       "    .dataframe tbody tr th {\n",
       "        vertical-align: top;\n",
       "    }\n",
       "\n",
       "    .dataframe thead th {\n",
       "        text-align: right;\n",
       "    }\n",
       "</style>\n",
       "<table border=\"1\" class=\"dataframe\">\n",
       "  <thead>\n",
       "    <tr style=\"text-align: right;\">\n",
       "      <th></th>\n",
       "      <th>Ranking</th>\n",
       "      <th>Number of Reviews</th>\n",
       "      <th>sample</th>\n",
       "      <th>Rating</th>\n",
       "      <th>Price Range Dig</th>\n",
       "      <th>moods</th>\n",
       "      <th>Cuisine_count</th>\n",
       "      <th>Norm_ranking</th>\n",
       "      <th>City_Amsterdam</th>\n",
       "      <th>City_Athens</th>\n",
       "      <th>...</th>\n",
       "      <th>City_Oporto</th>\n",
       "      <th>City_Oslo</th>\n",
       "      <th>City_Paris</th>\n",
       "      <th>City_Prague</th>\n",
       "      <th>City_Rome</th>\n",
       "      <th>City_Stockholm</th>\n",
       "      <th>City_Vienna</th>\n",
       "      <th>City_Warsaw</th>\n",
       "      <th>City_Zurich</th>\n",
       "      <th>City_nan</th>\n",
       "    </tr>\n",
       "  </thead>\n",
       "  <tbody>\n",
       "    <tr>\n",
       "      <th>0</th>\n",
       "      <td>12963.0</td>\n",
       "      <td>4.0</td>\n",
       "      <td>0</td>\n",
       "      <td>0.0</td>\n",
       "      <td>2</td>\n",
       "      <td>0</td>\n",
       "      <td>2</td>\n",
       "      <td>0.926840</td>\n",
       "      <td>0</td>\n",
       "      <td>0</td>\n",
       "      <td>...</td>\n",
       "      <td>0</td>\n",
       "      <td>0</td>\n",
       "      <td>1</td>\n",
       "      <td>0</td>\n",
       "      <td>0</td>\n",
       "      <td>0</td>\n",
       "      <td>0</td>\n",
       "      <td>0</td>\n",
       "      <td>0</td>\n",
       "      <td>0</td>\n",
       "    </tr>\n",
       "    <tr>\n",
       "      <th>1</th>\n",
       "      <td>106.0</td>\n",
       "      <td>97.0</td>\n",
       "      <td>0</td>\n",
       "      <td>0.0</td>\n",
       "      <td>2</td>\n",
       "      <td>1</td>\n",
       "      <td>5</td>\n",
       "      <td>0.089710</td>\n",
       "      <td>0</td>\n",
       "      <td>0</td>\n",
       "      <td>...</td>\n",
       "      <td>0</td>\n",
       "      <td>0</td>\n",
       "      <td>0</td>\n",
       "      <td>0</td>\n",
       "      <td>0</td>\n",
       "      <td>0</td>\n",
       "      <td>0</td>\n",
       "      <td>0</td>\n",
       "      <td>0</td>\n",
       "      <td>0</td>\n",
       "    </tr>\n",
       "    <tr>\n",
       "      <th>2</th>\n",
       "      <td>810.0</td>\n",
       "      <td>28.0</td>\n",
       "      <td>0</td>\n",
       "      <td>0.0</td>\n",
       "      <td>2</td>\n",
       "      <td>0</td>\n",
       "      <td>1</td>\n",
       "      <td>0.458357</td>\n",
       "      <td>0</td>\n",
       "      <td>0</td>\n",
       "      <td>...</td>\n",
       "      <td>0</td>\n",
       "      <td>0</td>\n",
       "      <td>0</td>\n",
       "      <td>0</td>\n",
       "      <td>0</td>\n",
       "      <td>0</td>\n",
       "      <td>0</td>\n",
       "      <td>0</td>\n",
       "      <td>0</td>\n",
       "      <td>0</td>\n",
       "    </tr>\n",
       "    <tr>\n",
       "      <th>3</th>\n",
       "      <td>1669.0</td>\n",
       "      <td>202.0</td>\n",
       "      <td>0</td>\n",
       "      <td>0.0</td>\n",
       "      <td>3</td>\n",
       "      <td>1</td>\n",
       "      <td>5</td>\n",
       "      <td>0.101441</td>\n",
       "      <td>0</td>\n",
       "      <td>0</td>\n",
       "      <td>...</td>\n",
       "      <td>0</td>\n",
       "      <td>0</td>\n",
       "      <td>0</td>\n",
       "      <td>0</td>\n",
       "      <td>0</td>\n",
       "      <td>0</td>\n",
       "      <td>0</td>\n",
       "      <td>0</td>\n",
       "      <td>0</td>\n",
       "      <td>0</td>\n",
       "    </tr>\n",
       "    <tr>\n",
       "      <th>4</th>\n",
       "      <td>37.0</td>\n",
       "      <td>162.0</td>\n",
       "      <td>0</td>\n",
       "      <td>0.0</td>\n",
       "      <td>3</td>\n",
       "      <td>1</td>\n",
       "      <td>6</td>\n",
       "      <td>0.038375</td>\n",
       "      <td>0</td>\n",
       "      <td>0</td>\n",
       "      <td>...</td>\n",
       "      <td>0</td>\n",
       "      <td>0</td>\n",
       "      <td>0</td>\n",
       "      <td>0</td>\n",
       "      <td>0</td>\n",
       "      <td>0</td>\n",
       "      <td>0</td>\n",
       "      <td>0</td>\n",
       "      <td>0</td>\n",
       "      <td>0</td>\n",
       "    </tr>\n",
       "    <tr>\n",
       "      <th>5</th>\n",
       "      <td>5093.0</td>\n",
       "      <td>24.0</td>\n",
       "      <td>0</td>\n",
       "      <td>0.0</td>\n",
       "      <td>1</td>\n",
       "      <td>1</td>\n",
       "      <td>3</td>\n",
       "      <td>0.364013</td>\n",
       "      <td>0</td>\n",
       "      <td>0</td>\n",
       "      <td>...</td>\n",
       "      <td>0</td>\n",
       "      <td>0</td>\n",
       "      <td>1</td>\n",
       "      <td>0</td>\n",
       "      <td>0</td>\n",
       "      <td>0</td>\n",
       "      <td>0</td>\n",
       "      <td>0</td>\n",
       "      <td>0</td>\n",
       "      <td>0</td>\n",
       "    </tr>\n",
       "    <tr>\n",
       "      <th>6</th>\n",
       "      <td>3704.0</td>\n",
       "      <td>2.0</td>\n",
       "      <td>0</td>\n",
       "      <td>0.0</td>\n",
       "      <td>1</td>\n",
       "      <td>0</td>\n",
       "      <td>2</td>\n",
       "      <td>0.996502</td>\n",
       "      <td>0</td>\n",
       "      <td>0</td>\n",
       "      <td>...</td>\n",
       "      <td>0</td>\n",
       "      <td>0</td>\n",
       "      <td>0</td>\n",
       "      <td>0</td>\n",
       "      <td>0</td>\n",
       "      <td>0</td>\n",
       "      <td>0</td>\n",
       "      <td>0</td>\n",
       "      <td>0</td>\n",
       "      <td>0</td>\n",
       "    </tr>\n",
       "    <tr>\n",
       "      <th>7</th>\n",
       "      <td>2330.0</td>\n",
       "      <td>0.0</td>\n",
       "      <td>0</td>\n",
       "      <td>0.0</td>\n",
       "      <td>2</td>\n",
       "      <td>0</td>\n",
       "      <td>1</td>\n",
       "      <td>0.954900</td>\n",
       "      <td>0</td>\n",
       "      <td>0</td>\n",
       "      <td>...</td>\n",
       "      <td>0</td>\n",
       "      <td>0</td>\n",
       "      <td>0</td>\n",
       "      <td>0</td>\n",
       "      <td>0</td>\n",
       "      <td>0</td>\n",
       "      <td>0</td>\n",
       "      <td>0</td>\n",
       "      <td>0</td>\n",
       "      <td>0</td>\n",
       "    </tr>\n",
       "    <tr>\n",
       "      <th>8</th>\n",
       "      <td>771.0</td>\n",
       "      <td>2.0</td>\n",
       "      <td>0</td>\n",
       "      <td>0.0</td>\n",
       "      <td>2</td>\n",
       "      <td>0</td>\n",
       "      <td>2</td>\n",
       "      <td>0.674582</td>\n",
       "      <td>0</td>\n",
       "      <td>0</td>\n",
       "      <td>...</td>\n",
       "      <td>0</td>\n",
       "      <td>0</td>\n",
       "      <td>0</td>\n",
       "      <td>0</td>\n",
       "      <td>0</td>\n",
       "      <td>0</td>\n",
       "      <td>0</td>\n",
       "      <td>0</td>\n",
       "      <td>0</td>\n",
       "      <td>0</td>\n",
       "    </tr>\n",
       "    <tr>\n",
       "      <th>9</th>\n",
       "      <td>605.0</td>\n",
       "      <td>13.0</td>\n",
       "      <td>0</td>\n",
       "      <td>0.0</td>\n",
       "      <td>2</td>\n",
       "      <td>1</td>\n",
       "      <td>1</td>\n",
       "      <td>0.245229</td>\n",
       "      <td>0</td>\n",
       "      <td>0</td>\n",
       "      <td>...</td>\n",
       "      <td>0</td>\n",
       "      <td>0</td>\n",
       "      <td>0</td>\n",
       "      <td>0</td>\n",
       "      <td>0</td>\n",
       "      <td>1</td>\n",
       "      <td>0</td>\n",
       "      <td>0</td>\n",
       "      <td>0</td>\n",
       "      <td>0</td>\n",
       "    </tr>\n",
       "  </tbody>\n",
       "</table>\n",
       "<p>10 rows × 40 columns</p>\n",
       "</div>"
      ],
      "text/plain": [
       "   Ranking  Number of Reviews  sample  Rating  Price Range Dig  moods  \\\n",
       "0  12963.0                4.0       0     0.0                2      0   \n",
       "1    106.0               97.0       0     0.0                2      1   \n",
       "2    810.0               28.0       0     0.0                2      0   \n",
       "3   1669.0              202.0       0     0.0                3      1   \n",
       "4     37.0              162.0       0     0.0                3      1   \n",
       "5   5093.0               24.0       0     0.0                1      1   \n",
       "6   3704.0                2.0       0     0.0                1      0   \n",
       "7   2330.0                0.0       0     0.0                2      0   \n",
       "8    771.0                2.0       0     0.0                2      0   \n",
       "9    605.0               13.0       0     0.0                2      1   \n",
       "\n",
       "   Cuisine_count  Norm_ranking  City_Amsterdam  City_Athens  ...  City_Oporto  \\\n",
       "0              2      0.926840               0            0  ...            0   \n",
       "1              5      0.089710               0            0  ...            0   \n",
       "2              1      0.458357               0            0  ...            0   \n",
       "3              5      0.101441               0            0  ...            0   \n",
       "4              6      0.038375               0            0  ...            0   \n",
       "5              3      0.364013               0            0  ...            0   \n",
       "6              2      0.996502               0            0  ...            0   \n",
       "7              1      0.954900               0            0  ...            0   \n",
       "8              2      0.674582               0            0  ...            0   \n",
       "9              1      0.245229               0            0  ...            0   \n",
       "\n",
       "   City_Oslo  City_Paris  City_Prague  City_Rome  City_Stockholm  City_Vienna  \\\n",
       "0          0           1            0          0               0            0   \n",
       "1          0           0            0          0               0            0   \n",
       "2          0           0            0          0               0            0   \n",
       "3          0           0            0          0               0            0   \n",
       "4          0           0            0          0               0            0   \n",
       "5          0           1            0          0               0            0   \n",
       "6          0           0            0          0               0            0   \n",
       "7          0           0            0          0               0            0   \n",
       "8          0           0            0          0               0            0   \n",
       "9          0           0            0          0               1            0   \n",
       "\n",
       "   City_Warsaw  City_Zurich  City_nan  \n",
       "0            0            0         0  \n",
       "1            0            0         0  \n",
       "2            0            0         0  \n",
       "3            0            0         0  \n",
       "4            0            0         0  \n",
       "5            0            0         0  \n",
       "6            0            0         0  \n",
       "7            0            0         0  \n",
       "8            0            0         0  \n",
       "9            0            0         0  \n",
       "\n",
       "[10 rows x 40 columns]"
      ]
     },
     "execution_count": 44,
     "metadata": {},
     "output_type": "execute_result"
    }
   ],
   "source": [
    "df_preproc = preproc_data(data)\n",
    "df_preproc.head(10)"
   ]
  },
  {
   "cell_type": "code",
   "execution_count": 45,
   "metadata": {
    "execution": {
     "iopub.status.busy": "2021-05-22T12:22:51.639328Z",
     "iopub.status.idle": "2021-05-22T12:22:51.640045Z"
    }
   },
   "outputs": [
    {
     "name": "stdout",
     "output_type": "stream",
     "text": [
      "<class 'pandas.core.frame.DataFrame'>\n",
      "RangeIndex: 50000 entries, 0 to 49999\n",
      "Data columns (total 40 columns):\n",
      "Ranking              50000 non-null float64\n",
      "Number of Reviews    50000 non-null float64\n",
      "sample               50000 non-null int64\n",
      "Rating               50000 non-null float64\n",
      "Price Range Dig      50000 non-null int64\n",
      "moods                50000 non-null int64\n",
      "Cuisine_count        50000 non-null int64\n",
      "Norm_ranking         50000 non-null float64\n",
      "City_Amsterdam       50000 non-null uint8\n",
      "City_Athens          50000 non-null uint8\n",
      "City_Barcelona       50000 non-null uint8\n",
      "City_Berlin          50000 non-null uint8\n",
      "City_Bratislava      50000 non-null uint8\n",
      "City_Brussels        50000 non-null uint8\n",
      "City_Budapest        50000 non-null uint8\n",
      "City_Copenhagen      50000 non-null uint8\n",
      "City_Dublin          50000 non-null uint8\n",
      "City_Edinburgh       50000 non-null uint8\n",
      "City_Geneva          50000 non-null uint8\n",
      "City_Hamburg         50000 non-null uint8\n",
      "City_Helsinki        50000 non-null uint8\n",
      "City_Krakow          50000 non-null uint8\n",
      "City_Lisbon          50000 non-null uint8\n",
      "City_Ljubljana       50000 non-null uint8\n",
      "City_London          50000 non-null uint8\n",
      "City_Luxembourg      50000 non-null uint8\n",
      "City_Lyon            50000 non-null uint8\n",
      "City_Madrid          50000 non-null uint8\n",
      "City_Milan           50000 non-null uint8\n",
      "City_Munich          50000 non-null uint8\n",
      "City_Oporto          50000 non-null uint8\n",
      "City_Oslo            50000 non-null uint8\n",
      "City_Paris           50000 non-null uint8\n",
      "City_Prague          50000 non-null uint8\n",
      "City_Rome            50000 non-null uint8\n",
      "City_Stockholm       50000 non-null uint8\n",
      "City_Vienna          50000 non-null uint8\n",
      "City_Warsaw          50000 non-null uint8\n",
      "City_Zurich          50000 non-null uint8\n",
      "City_nan             50000 non-null uint8\n",
      "dtypes: float64(4), int64(4), uint8(32)\n",
      "memory usage: 4.6 MB\n"
     ]
    }
   ],
   "source": [
    "df_preproc.info()"
   ]
  },
  {
   "cell_type": "code",
   "execution_count": 46,
   "metadata": {
    "execution": {
     "iopub.status.busy": "2021-05-22T12:22:51.641439Z",
     "iopub.status.idle": "2021-05-22T12:22:51.642050Z"
    }
   },
   "outputs": [],
   "source": [
    "# Теперь выделим тестовую часть\n",
    "train_data = df_preproc.query('sample == 1').drop(['sample'], axis=1)\n",
    "test_data = df_preproc.query('sample == 0').drop(['sample'], axis=1)\n",
    "\n",
    "y = train_data.Rating.values            # наш таргет\n",
    "X = train_data.drop(['Rating', 'Ranking'], axis=1)"
   ]
  },
  {
   "cell_type": "code",
   "execution_count": 47,
   "metadata": {
    "execution": {
     "iopub.status.busy": "2021-05-22T12:22:51.643387Z",
     "iopub.status.idle": "2021-05-22T12:22:51.644182Z"
    }
   },
   "outputs": [
    {
     "data": {
      "text/html": [
       "<div>\n",
       "<style scoped>\n",
       "    .dataframe tbody tr th:only-of-type {\n",
       "        vertical-align: middle;\n",
       "    }\n",
       "\n",
       "    .dataframe tbody tr th {\n",
       "        vertical-align: top;\n",
       "    }\n",
       "\n",
       "    .dataframe thead th {\n",
       "        text-align: right;\n",
       "    }\n",
       "</style>\n",
       "<table border=\"1\" class=\"dataframe\">\n",
       "  <thead>\n",
       "    <tr style=\"text-align: right;\">\n",
       "      <th></th>\n",
       "      <th>Ranking</th>\n",
       "      <th>Number of Reviews</th>\n",
       "      <th>Rating</th>\n",
       "      <th>Price Range Dig</th>\n",
       "      <th>moods</th>\n",
       "      <th>Cuisine_count</th>\n",
       "      <th>Norm_ranking</th>\n",
       "      <th>City_Amsterdam</th>\n",
       "      <th>City_Athens</th>\n",
       "      <th>City_Barcelona</th>\n",
       "      <th>...</th>\n",
       "      <th>City_Oporto</th>\n",
       "      <th>City_Oslo</th>\n",
       "      <th>City_Paris</th>\n",
       "      <th>City_Prague</th>\n",
       "      <th>City_Rome</th>\n",
       "      <th>City_Stockholm</th>\n",
       "      <th>City_Vienna</th>\n",
       "      <th>City_Warsaw</th>\n",
       "      <th>City_Zurich</th>\n",
       "      <th>City_nan</th>\n",
       "    </tr>\n",
       "  </thead>\n",
       "  <tbody>\n",
       "    <tr>\n",
       "      <th>10000</th>\n",
       "      <td>5570.0</td>\n",
       "      <td>194.0</td>\n",
       "      <td>3.5</td>\n",
       "      <td>2</td>\n",
       "      <td>1</td>\n",
       "      <td>3</td>\n",
       "      <td>0.398126</td>\n",
       "      <td>0</td>\n",
       "      <td>0</td>\n",
       "      <td>0</td>\n",
       "      <td>...</td>\n",
       "      <td>0</td>\n",
       "      <td>0</td>\n",
       "      <td>1</td>\n",
       "      <td>0</td>\n",
       "      <td>0</td>\n",
       "      <td>0</td>\n",
       "      <td>0</td>\n",
       "      <td>0</td>\n",
       "      <td>0</td>\n",
       "      <td>0</td>\n",
       "    </tr>\n",
       "    <tr>\n",
       "      <th>10001</th>\n",
       "      <td>1537.0</td>\n",
       "      <td>10.0</td>\n",
       "      <td>4.0</td>\n",
       "      <td>2</td>\n",
       "      <td>1</td>\n",
       "      <td>1</td>\n",
       "      <td>0.623630</td>\n",
       "      <td>0</td>\n",
       "      <td>0</td>\n",
       "      <td>0</td>\n",
       "      <td>...</td>\n",
       "      <td>0</td>\n",
       "      <td>0</td>\n",
       "      <td>0</td>\n",
       "      <td>0</td>\n",
       "      <td>0</td>\n",
       "      <td>1</td>\n",
       "      <td>0</td>\n",
       "      <td>0</td>\n",
       "      <td>0</td>\n",
       "      <td>0</td>\n",
       "    </tr>\n",
       "    <tr>\n",
       "      <th>10002</th>\n",
       "      <td>353.0</td>\n",
       "      <td>688.0</td>\n",
       "      <td>4.5</td>\n",
       "      <td>3</td>\n",
       "      <td>0</td>\n",
       "      <td>7</td>\n",
       "      <td>0.021407</td>\n",
       "      <td>0</td>\n",
       "      <td>0</td>\n",
       "      <td>0</td>\n",
       "      <td>...</td>\n",
       "      <td>0</td>\n",
       "      <td>0</td>\n",
       "      <td>0</td>\n",
       "      <td>0</td>\n",
       "      <td>0</td>\n",
       "      <td>0</td>\n",
       "      <td>0</td>\n",
       "      <td>0</td>\n",
       "      <td>0</td>\n",
       "      <td>0</td>\n",
       "    </tr>\n",
       "    <tr>\n",
       "      <th>10003</th>\n",
       "      <td>3458.0</td>\n",
       "      <td>3.0</td>\n",
       "      <td>5.0</td>\n",
       "      <td>2</td>\n",
       "      <td>0</td>\n",
       "      <td>1</td>\n",
       "      <td>0.542543</td>\n",
       "      <td>0</td>\n",
       "      <td>0</td>\n",
       "      <td>0</td>\n",
       "      <td>...</td>\n",
       "      <td>0</td>\n",
       "      <td>0</td>\n",
       "      <td>0</td>\n",
       "      <td>0</td>\n",
       "      <td>0</td>\n",
       "      <td>0</td>\n",
       "      <td>0</td>\n",
       "      <td>0</td>\n",
       "      <td>0</td>\n",
       "      <td>0</td>\n",
       "    </tr>\n",
       "    <tr>\n",
       "      <th>10004</th>\n",
       "      <td>621.0</td>\n",
       "      <td>84.0</td>\n",
       "      <td>4.0</td>\n",
       "      <td>2</td>\n",
       "      <td>1</td>\n",
       "      <td>3</td>\n",
       "      <td>0.223913</td>\n",
       "      <td>0</td>\n",
       "      <td>0</td>\n",
       "      <td>0</td>\n",
       "      <td>...</td>\n",
       "      <td>0</td>\n",
       "      <td>0</td>\n",
       "      <td>0</td>\n",
       "      <td>0</td>\n",
       "      <td>0</td>\n",
       "      <td>0</td>\n",
       "      <td>0</td>\n",
       "      <td>0</td>\n",
       "      <td>0</td>\n",
       "      <td>0</td>\n",
       "    </tr>\n",
       "  </tbody>\n",
       "</table>\n",
       "<p>5 rows × 39 columns</p>\n",
       "</div>"
      ],
      "text/plain": [
       "       Ranking  Number of Reviews  Rating  Price Range Dig  moods  \\\n",
       "10000   5570.0              194.0     3.5                2      1   \n",
       "10001   1537.0               10.0     4.0                2      1   \n",
       "10002    353.0              688.0     4.5                3      0   \n",
       "10003   3458.0                3.0     5.0                2      0   \n",
       "10004    621.0               84.0     4.0                2      1   \n",
       "\n",
       "       Cuisine_count  Norm_ranking  City_Amsterdam  City_Athens  \\\n",
       "10000              3      0.398126               0            0   \n",
       "10001              1      0.623630               0            0   \n",
       "10002              7      0.021407               0            0   \n",
       "10003              1      0.542543               0            0   \n",
       "10004              3      0.223913               0            0   \n",
       "\n",
       "       City_Barcelona  ...  City_Oporto  City_Oslo  City_Paris  City_Prague  \\\n",
       "10000               0  ...            0          0           1            0   \n",
       "10001               0  ...            0          0           0            0   \n",
       "10002               0  ...            0          0           0            0   \n",
       "10003               0  ...            0          0           0            0   \n",
       "10004               0  ...            0          0           0            0   \n",
       "\n",
       "       City_Rome  City_Stockholm  City_Vienna  City_Warsaw  City_Zurich  \\\n",
       "10000          0               0            0            0            0   \n",
       "10001          0               1            0            0            0   \n",
       "10002          0               0            0            0            0   \n",
       "10003          0               0            0            0            0   \n",
       "10004          0               0            0            0            0   \n",
       "\n",
       "       City_nan  \n",
       "10000         0  \n",
       "10001         0  \n",
       "10002         0  \n",
       "10003         0  \n",
       "10004         0  \n",
       "\n",
       "[5 rows x 39 columns]"
      ]
     },
     "execution_count": 47,
     "metadata": {},
     "output_type": "execute_result"
    }
   ],
   "source": [
    "train_data.head()"
   ]
  },
  {
   "cell_type": "code",
   "execution_count": 48,
   "metadata": {
    "execution": {
     "iopub.status.busy": "2021-05-22T12:22:51.645655Z",
     "iopub.status.idle": "2021-05-22T12:22:51.646170Z"
    }
   },
   "outputs": [
    {
     "data": {
      "text/html": [
       "<div>\n",
       "<style scoped>\n",
       "    .dataframe tbody tr th:only-of-type {\n",
       "        vertical-align: middle;\n",
       "    }\n",
       "\n",
       "    .dataframe tbody tr th {\n",
       "        vertical-align: top;\n",
       "    }\n",
       "\n",
       "    .dataframe thead th {\n",
       "        text-align: right;\n",
       "    }\n",
       "</style>\n",
       "<table border=\"1\" class=\"dataframe\">\n",
       "  <thead>\n",
       "    <tr style=\"text-align: right;\">\n",
       "      <th></th>\n",
       "      <th>Ranking</th>\n",
       "      <th>Number of Reviews</th>\n",
       "      <th>Rating</th>\n",
       "      <th>Price Range Dig</th>\n",
       "      <th>moods</th>\n",
       "      <th>Cuisine_count</th>\n",
       "      <th>Norm_ranking</th>\n",
       "      <th>City_Amsterdam</th>\n",
       "      <th>City_Athens</th>\n",
       "      <th>City_Barcelona</th>\n",
       "      <th>...</th>\n",
       "      <th>City_Oporto</th>\n",
       "      <th>City_Oslo</th>\n",
       "      <th>City_Paris</th>\n",
       "      <th>City_Prague</th>\n",
       "      <th>City_Rome</th>\n",
       "      <th>City_Stockholm</th>\n",
       "      <th>City_Vienna</th>\n",
       "      <th>City_Warsaw</th>\n",
       "      <th>City_Zurich</th>\n",
       "      <th>City_nan</th>\n",
       "    </tr>\n",
       "  </thead>\n",
       "  <tbody>\n",
       "    <tr>\n",
       "      <th>0</th>\n",
       "      <td>12963.0</td>\n",
       "      <td>4.0</td>\n",
       "      <td>0.0</td>\n",
       "      <td>2</td>\n",
       "      <td>0</td>\n",
       "      <td>2</td>\n",
       "      <td>0.926840</td>\n",
       "      <td>0</td>\n",
       "      <td>0</td>\n",
       "      <td>0</td>\n",
       "      <td>...</td>\n",
       "      <td>0</td>\n",
       "      <td>0</td>\n",
       "      <td>1</td>\n",
       "      <td>0</td>\n",
       "      <td>0</td>\n",
       "      <td>0</td>\n",
       "      <td>0</td>\n",
       "      <td>0</td>\n",
       "      <td>0</td>\n",
       "      <td>0</td>\n",
       "    </tr>\n",
       "    <tr>\n",
       "      <th>1</th>\n",
       "      <td>106.0</td>\n",
       "      <td>97.0</td>\n",
       "      <td>0.0</td>\n",
       "      <td>2</td>\n",
       "      <td>1</td>\n",
       "      <td>5</td>\n",
       "      <td>0.089710</td>\n",
       "      <td>0</td>\n",
       "      <td>0</td>\n",
       "      <td>0</td>\n",
       "      <td>...</td>\n",
       "      <td>0</td>\n",
       "      <td>0</td>\n",
       "      <td>0</td>\n",
       "      <td>0</td>\n",
       "      <td>0</td>\n",
       "      <td>0</td>\n",
       "      <td>0</td>\n",
       "      <td>0</td>\n",
       "      <td>0</td>\n",
       "      <td>0</td>\n",
       "    </tr>\n",
       "    <tr>\n",
       "      <th>2</th>\n",
       "      <td>810.0</td>\n",
       "      <td>28.0</td>\n",
       "      <td>0.0</td>\n",
       "      <td>2</td>\n",
       "      <td>0</td>\n",
       "      <td>1</td>\n",
       "      <td>0.458357</td>\n",
       "      <td>0</td>\n",
       "      <td>0</td>\n",
       "      <td>0</td>\n",
       "      <td>...</td>\n",
       "      <td>0</td>\n",
       "      <td>0</td>\n",
       "      <td>0</td>\n",
       "      <td>0</td>\n",
       "      <td>0</td>\n",
       "      <td>0</td>\n",
       "      <td>0</td>\n",
       "      <td>0</td>\n",
       "      <td>0</td>\n",
       "      <td>0</td>\n",
       "    </tr>\n",
       "    <tr>\n",
       "      <th>3</th>\n",
       "      <td>1669.0</td>\n",
       "      <td>202.0</td>\n",
       "      <td>0.0</td>\n",
       "      <td>3</td>\n",
       "      <td>1</td>\n",
       "      <td>5</td>\n",
       "      <td>0.101441</td>\n",
       "      <td>0</td>\n",
       "      <td>0</td>\n",
       "      <td>0</td>\n",
       "      <td>...</td>\n",
       "      <td>0</td>\n",
       "      <td>0</td>\n",
       "      <td>0</td>\n",
       "      <td>0</td>\n",
       "      <td>0</td>\n",
       "      <td>0</td>\n",
       "      <td>0</td>\n",
       "      <td>0</td>\n",
       "      <td>0</td>\n",
       "      <td>0</td>\n",
       "    </tr>\n",
       "    <tr>\n",
       "      <th>4</th>\n",
       "      <td>37.0</td>\n",
       "      <td>162.0</td>\n",
       "      <td>0.0</td>\n",
       "      <td>3</td>\n",
       "      <td>1</td>\n",
       "      <td>6</td>\n",
       "      <td>0.038375</td>\n",
       "      <td>0</td>\n",
       "      <td>0</td>\n",
       "      <td>0</td>\n",
       "      <td>...</td>\n",
       "      <td>0</td>\n",
       "      <td>0</td>\n",
       "      <td>0</td>\n",
       "      <td>0</td>\n",
       "      <td>0</td>\n",
       "      <td>0</td>\n",
       "      <td>0</td>\n",
       "      <td>0</td>\n",
       "      <td>0</td>\n",
       "      <td>0</td>\n",
       "    </tr>\n",
       "  </tbody>\n",
       "</table>\n",
       "<p>5 rows × 39 columns</p>\n",
       "</div>"
      ],
      "text/plain": [
       "   Ranking  Number of Reviews  Rating  Price Range Dig  moods  Cuisine_count  \\\n",
       "0  12963.0                4.0     0.0                2      0              2   \n",
       "1    106.0               97.0     0.0                2      1              5   \n",
       "2    810.0               28.0     0.0                2      0              1   \n",
       "3   1669.0              202.0     0.0                3      1              5   \n",
       "4     37.0              162.0     0.0                3      1              6   \n",
       "\n",
       "   Norm_ranking  City_Amsterdam  City_Athens  City_Barcelona  ...  \\\n",
       "0      0.926840               0            0               0  ...   \n",
       "1      0.089710               0            0               0  ...   \n",
       "2      0.458357               0            0               0  ...   \n",
       "3      0.101441               0            0               0  ...   \n",
       "4      0.038375               0            0               0  ...   \n",
       "\n",
       "   City_Oporto  City_Oslo  City_Paris  City_Prague  City_Rome  City_Stockholm  \\\n",
       "0            0          0           1            0          0               0   \n",
       "1            0          0           0            0          0               0   \n",
       "2            0          0           0            0          0               0   \n",
       "3            0          0           0            0          0               0   \n",
       "4            0          0           0            0          0               0   \n",
       "\n",
       "   City_Vienna  City_Warsaw  City_Zurich  City_nan  \n",
       "0            0            0            0         0  \n",
       "1            0            0            0         0  \n",
       "2            0            0            0         0  \n",
       "3            0            0            0         0  \n",
       "4            0            0            0         0  \n",
       "\n",
       "[5 rows x 39 columns]"
      ]
     },
     "execution_count": 48,
     "metadata": {},
     "output_type": "execute_result"
    }
   ],
   "source": [
    "test_data.head()"
   ]
  },
  {
   "cell_type": "code",
   "execution_count": 49,
   "metadata": {
    "execution": {
     "iopub.execute_input": "2021-05-22T12:23:56.854190Z",
     "iopub.status.busy": "2021-05-22T12:23:56.853876Z",
     "iopub.status.idle": "2021-05-22T12:23:56.860281Z",
     "shell.execute_reply": "2021-05-22T12:23:56.859286Z",
     "shell.execute_reply.started": "2021-05-22T12:23:56.854141Z"
    }
   },
   "outputs": [
    {
     "data": {
      "text/plain": [
       "array([3.5, 4. , 4.5, ..., 4.5, 4. , 3. ])"
      ]
     },
     "execution_count": 49,
     "metadata": {},
     "output_type": "execute_result"
    }
   ],
   "source": [
    "y"
   ]
  },
  {
   "cell_type": "code",
   "execution_count": 50,
   "metadata": {
    "execution": {
     "iopub.execute_input": "2021-05-22T12:23:59.432722Z",
     "iopub.status.busy": "2021-05-22T12:23:59.432384Z",
     "iopub.status.idle": "2021-05-22T12:23:59.470951Z",
     "shell.execute_reply": "2021-05-22T12:23:59.470161Z",
     "shell.execute_reply.started": "2021-05-22T12:23:59.432668Z"
    }
   },
   "outputs": [
    {
     "data": {
      "text/html": [
       "<div>\n",
       "<style scoped>\n",
       "    .dataframe tbody tr th:only-of-type {\n",
       "        vertical-align: middle;\n",
       "    }\n",
       "\n",
       "    .dataframe tbody tr th {\n",
       "        vertical-align: top;\n",
       "    }\n",
       "\n",
       "    .dataframe thead th {\n",
       "        text-align: right;\n",
       "    }\n",
       "</style>\n",
       "<table border=\"1\" class=\"dataframe\">\n",
       "  <thead>\n",
       "    <tr style=\"text-align: right;\">\n",
       "      <th></th>\n",
       "      <th>Number of Reviews</th>\n",
       "      <th>Price Range Dig</th>\n",
       "      <th>moods</th>\n",
       "      <th>Cuisine_count</th>\n",
       "      <th>Norm_ranking</th>\n",
       "      <th>City_Amsterdam</th>\n",
       "      <th>City_Athens</th>\n",
       "      <th>City_Barcelona</th>\n",
       "      <th>City_Berlin</th>\n",
       "      <th>City_Bratislava</th>\n",
       "      <th>...</th>\n",
       "      <th>City_Oporto</th>\n",
       "      <th>City_Oslo</th>\n",
       "      <th>City_Paris</th>\n",
       "      <th>City_Prague</th>\n",
       "      <th>City_Rome</th>\n",
       "      <th>City_Stockholm</th>\n",
       "      <th>City_Vienna</th>\n",
       "      <th>City_Warsaw</th>\n",
       "      <th>City_Zurich</th>\n",
       "      <th>City_nan</th>\n",
       "    </tr>\n",
       "  </thead>\n",
       "  <tbody>\n",
       "    <tr>\n",
       "      <th>10000</th>\n",
       "      <td>194.0</td>\n",
       "      <td>2</td>\n",
       "      <td>1</td>\n",
       "      <td>3</td>\n",
       "      <td>0.398126</td>\n",
       "      <td>0</td>\n",
       "      <td>0</td>\n",
       "      <td>0</td>\n",
       "      <td>0</td>\n",
       "      <td>0</td>\n",
       "      <td>...</td>\n",
       "      <td>0</td>\n",
       "      <td>0</td>\n",
       "      <td>1</td>\n",
       "      <td>0</td>\n",
       "      <td>0</td>\n",
       "      <td>0</td>\n",
       "      <td>0</td>\n",
       "      <td>0</td>\n",
       "      <td>0</td>\n",
       "      <td>0</td>\n",
       "    </tr>\n",
       "    <tr>\n",
       "      <th>10001</th>\n",
       "      <td>10.0</td>\n",
       "      <td>2</td>\n",
       "      <td>1</td>\n",
       "      <td>1</td>\n",
       "      <td>0.623630</td>\n",
       "      <td>0</td>\n",
       "      <td>0</td>\n",
       "      <td>0</td>\n",
       "      <td>0</td>\n",
       "      <td>0</td>\n",
       "      <td>...</td>\n",
       "      <td>0</td>\n",
       "      <td>0</td>\n",
       "      <td>0</td>\n",
       "      <td>0</td>\n",
       "      <td>0</td>\n",
       "      <td>1</td>\n",
       "      <td>0</td>\n",
       "      <td>0</td>\n",
       "      <td>0</td>\n",
       "      <td>0</td>\n",
       "    </tr>\n",
       "    <tr>\n",
       "      <th>10002</th>\n",
       "      <td>688.0</td>\n",
       "      <td>3</td>\n",
       "      <td>0</td>\n",
       "      <td>7</td>\n",
       "      <td>0.021407</td>\n",
       "      <td>0</td>\n",
       "      <td>0</td>\n",
       "      <td>0</td>\n",
       "      <td>0</td>\n",
       "      <td>0</td>\n",
       "      <td>...</td>\n",
       "      <td>0</td>\n",
       "      <td>0</td>\n",
       "      <td>0</td>\n",
       "      <td>0</td>\n",
       "      <td>0</td>\n",
       "      <td>0</td>\n",
       "      <td>0</td>\n",
       "      <td>0</td>\n",
       "      <td>0</td>\n",
       "      <td>0</td>\n",
       "    </tr>\n",
       "    <tr>\n",
       "      <th>10003</th>\n",
       "      <td>3.0</td>\n",
       "      <td>2</td>\n",
       "      <td>0</td>\n",
       "      <td>1</td>\n",
       "      <td>0.542543</td>\n",
       "      <td>0</td>\n",
       "      <td>0</td>\n",
       "      <td>0</td>\n",
       "      <td>1</td>\n",
       "      <td>0</td>\n",
       "      <td>...</td>\n",
       "      <td>0</td>\n",
       "      <td>0</td>\n",
       "      <td>0</td>\n",
       "      <td>0</td>\n",
       "      <td>0</td>\n",
       "      <td>0</td>\n",
       "      <td>0</td>\n",
       "      <td>0</td>\n",
       "      <td>0</td>\n",
       "      <td>0</td>\n",
       "    </tr>\n",
       "    <tr>\n",
       "      <th>10004</th>\n",
       "      <td>84.0</td>\n",
       "      <td>2</td>\n",
       "      <td>1</td>\n",
       "      <td>3</td>\n",
       "      <td>0.223913</td>\n",
       "      <td>0</td>\n",
       "      <td>0</td>\n",
       "      <td>0</td>\n",
       "      <td>0</td>\n",
       "      <td>0</td>\n",
       "      <td>...</td>\n",
       "      <td>0</td>\n",
       "      <td>0</td>\n",
       "      <td>0</td>\n",
       "      <td>0</td>\n",
       "      <td>0</td>\n",
       "      <td>0</td>\n",
       "      <td>0</td>\n",
       "      <td>0</td>\n",
       "      <td>0</td>\n",
       "      <td>0</td>\n",
       "    </tr>\n",
       "    <tr>\n",
       "      <th>...</th>\n",
       "      <td>...</td>\n",
       "      <td>...</td>\n",
       "      <td>...</td>\n",
       "      <td>...</td>\n",
       "      <td>...</td>\n",
       "      <td>...</td>\n",
       "      <td>...</td>\n",
       "      <td>...</td>\n",
       "      <td>...</td>\n",
       "      <td>...</td>\n",
       "      <td>...</td>\n",
       "      <td>...</td>\n",
       "      <td>...</td>\n",
       "      <td>...</td>\n",
       "      <td>...</td>\n",
       "      <td>...</td>\n",
       "      <td>...</td>\n",
       "      <td>...</td>\n",
       "      <td>...</td>\n",
       "      <td>...</td>\n",
       "      <td>...</td>\n",
       "    </tr>\n",
       "    <tr>\n",
       "      <th>49995</th>\n",
       "      <td>79.0</td>\n",
       "      <td>2</td>\n",
       "      <td>1</td>\n",
       "      <td>4</td>\n",
       "      <td>0.079535</td>\n",
       "      <td>0</td>\n",
       "      <td>0</td>\n",
       "      <td>0</td>\n",
       "      <td>0</td>\n",
       "      <td>0</td>\n",
       "      <td>...</td>\n",
       "      <td>0</td>\n",
       "      <td>0</td>\n",
       "      <td>0</td>\n",
       "      <td>0</td>\n",
       "      <td>0</td>\n",
       "      <td>0</td>\n",
       "      <td>0</td>\n",
       "      <td>0</td>\n",
       "      <td>0</td>\n",
       "      <td>0</td>\n",
       "    </tr>\n",
       "    <tr>\n",
       "      <th>49996</th>\n",
       "      <td>542.0</td>\n",
       "      <td>2</td>\n",
       "      <td>0</td>\n",
       "      <td>5</td>\n",
       "      <td>0.453265</td>\n",
       "      <td>0</td>\n",
       "      <td>0</td>\n",
       "      <td>0</td>\n",
       "      <td>0</td>\n",
       "      <td>0</td>\n",
       "      <td>...</td>\n",
       "      <td>0</td>\n",
       "      <td>0</td>\n",
       "      <td>1</td>\n",
       "      <td>0</td>\n",
       "      <td>0</td>\n",
       "      <td>0</td>\n",
       "      <td>0</td>\n",
       "      <td>0</td>\n",
       "      <td>0</td>\n",
       "      <td>0</td>\n",
       "    </tr>\n",
       "    <tr>\n",
       "      <th>49997</th>\n",
       "      <td>4.0</td>\n",
       "      <td>2</td>\n",
       "      <td>1</td>\n",
       "      <td>2</td>\n",
       "      <td>0.670321</td>\n",
       "      <td>0</td>\n",
       "      <td>0</td>\n",
       "      <td>0</td>\n",
       "      <td>0</td>\n",
       "      <td>0</td>\n",
       "      <td>...</td>\n",
       "      <td>0</td>\n",
       "      <td>0</td>\n",
       "      <td>0</td>\n",
       "      <td>0</td>\n",
       "      <td>0</td>\n",
       "      <td>1</td>\n",
       "      <td>0</td>\n",
       "      <td>0</td>\n",
       "      <td>0</td>\n",
       "      <td>0</td>\n",
       "    </tr>\n",
       "    <tr>\n",
       "      <th>49998</th>\n",
       "      <td>70.0</td>\n",
       "      <td>2</td>\n",
       "      <td>0</td>\n",
       "      <td>5</td>\n",
       "      <td>0.297260</td>\n",
       "      <td>0</td>\n",
       "      <td>0</td>\n",
       "      <td>0</td>\n",
       "      <td>0</td>\n",
       "      <td>0</td>\n",
       "      <td>...</td>\n",
       "      <td>0</td>\n",
       "      <td>0</td>\n",
       "      <td>0</td>\n",
       "      <td>0</td>\n",
       "      <td>0</td>\n",
       "      <td>0</td>\n",
       "      <td>0</td>\n",
       "      <td>1</td>\n",
       "      <td>0</td>\n",
       "      <td>0</td>\n",
       "    </tr>\n",
       "    <tr>\n",
       "      <th>49999</th>\n",
       "      <td>260.0</td>\n",
       "      <td>2</td>\n",
       "      <td>1</td>\n",
       "      <td>1</td>\n",
       "      <td>0.769206</td>\n",
       "      <td>0</td>\n",
       "      <td>0</td>\n",
       "      <td>0</td>\n",
       "      <td>0</td>\n",
       "      <td>0</td>\n",
       "      <td>...</td>\n",
       "      <td>0</td>\n",
       "      <td>0</td>\n",
       "      <td>0</td>\n",
       "      <td>0</td>\n",
       "      <td>0</td>\n",
       "      <td>0</td>\n",
       "      <td>0</td>\n",
       "      <td>0</td>\n",
       "      <td>0</td>\n",
       "      <td>0</td>\n",
       "    </tr>\n",
       "  </tbody>\n",
       "</table>\n",
       "<p>40000 rows × 37 columns</p>\n",
       "</div>"
      ],
      "text/plain": [
       "       Number of Reviews  Price Range Dig  moods  Cuisine_count  Norm_ranking  \\\n",
       "10000              194.0                2      1              3      0.398126   \n",
       "10001               10.0                2      1              1      0.623630   \n",
       "10002              688.0                3      0              7      0.021407   \n",
       "10003                3.0                2      0              1      0.542543   \n",
       "10004               84.0                2      1              3      0.223913   \n",
       "...                  ...              ...    ...            ...           ...   \n",
       "49995               79.0                2      1              4      0.079535   \n",
       "49996              542.0                2      0              5      0.453265   \n",
       "49997                4.0                2      1              2      0.670321   \n",
       "49998               70.0                2      0              5      0.297260   \n",
       "49999              260.0                2      1              1      0.769206   \n",
       "\n",
       "       City_Amsterdam  City_Athens  City_Barcelona  City_Berlin  \\\n",
       "10000               0            0               0            0   \n",
       "10001               0            0               0            0   \n",
       "10002               0            0               0            0   \n",
       "10003               0            0               0            1   \n",
       "10004               0            0               0            0   \n",
       "...               ...          ...             ...          ...   \n",
       "49995               0            0               0            0   \n",
       "49996               0            0               0            0   \n",
       "49997               0            0               0            0   \n",
       "49998               0            0               0            0   \n",
       "49999               0            0               0            0   \n",
       "\n",
       "       City_Bratislava  ...  City_Oporto  City_Oslo  City_Paris  City_Prague  \\\n",
       "10000                0  ...            0          0           1            0   \n",
       "10001                0  ...            0          0           0            0   \n",
       "10002                0  ...            0          0           0            0   \n",
       "10003                0  ...            0          0           0            0   \n",
       "10004                0  ...            0          0           0            0   \n",
       "...                ...  ...          ...        ...         ...          ...   \n",
       "49995                0  ...            0          0           0            0   \n",
       "49996                0  ...            0          0           1            0   \n",
       "49997                0  ...            0          0           0            0   \n",
       "49998                0  ...            0          0           0            0   \n",
       "49999                0  ...            0          0           0            0   \n",
       "\n",
       "       City_Rome  City_Stockholm  City_Vienna  City_Warsaw  City_Zurich  \\\n",
       "10000          0               0            0            0            0   \n",
       "10001          0               1            0            0            0   \n",
       "10002          0               0            0            0            0   \n",
       "10003          0               0            0            0            0   \n",
       "10004          0               0            0            0            0   \n",
       "...          ...             ...          ...          ...          ...   \n",
       "49995          0               0            0            0            0   \n",
       "49996          0               0            0            0            0   \n",
       "49997          0               1            0            0            0   \n",
       "49998          0               0            0            1            0   \n",
       "49999          0               0            0            0            0   \n",
       "\n",
       "       City_nan  \n",
       "10000         0  \n",
       "10001         0  \n",
       "10002         0  \n",
       "10003         0  \n",
       "10004         0  \n",
       "...         ...  \n",
       "49995         0  \n",
       "49996         0  \n",
       "49997         0  \n",
       "49998         0  \n",
       "49999         0  \n",
       "\n",
       "[40000 rows x 37 columns]"
      ]
     },
     "execution_count": 50,
     "metadata": {},
     "output_type": "execute_result"
    }
   ],
   "source": [
    "X"
   ]
  },
  {
   "cell_type": "markdown",
   "metadata": {},
   "source": [
    "**Перед тем как отправлять наши данные на обучение, разделим данные на еще один тест и трейн, для валидации. \n",
    "Это поможет нам проверить, как хорошо наша модель работает, до отправки submissiona на kaggle.**"
   ]
  },
  {
   "cell_type": "code",
   "execution_count": 51,
   "metadata": {
    "execution": {
     "iopub.status.busy": "2021-05-22T12:22:51.651633Z",
     "iopub.status.idle": "2021-05-22T12:22:51.652149Z"
    }
   },
   "outputs": [],
   "source": [
    "# Воспользуемся специальной функцие train_test_split для разбивки тестовых данных\n",
    "# выделим 20% данных на валидацию (параметр test_size)\n",
    "X_train, X_test, y_train, y_test = train_test_split(X, y, test_size=0.2, random_state=RANDOM_SEED)"
   ]
  },
  {
   "cell_type": "code",
   "execution_count": 52,
   "metadata": {
    "execution": {
     "iopub.status.busy": "2021-05-22T12:22:51.653408Z",
     "iopub.status.idle": "2021-05-22T12:22:51.654012Z"
    }
   },
   "outputs": [
    {
     "data": {
      "text/plain": [
       "((10000, 39), (40000, 39), (40000, 37), (32000, 37), (8000, 37))"
      ]
     },
     "execution_count": 52,
     "metadata": {},
     "output_type": "execute_result"
    }
   ],
   "source": [
    "# проверяем\n",
    "test_data.shape, train_data.shape, X.shape, X_train.shape, X_test.shape"
   ]
  },
  {
   "cell_type": "markdown",
   "metadata": {},
   "source": [
    "# Model \n",
    "Сам ML"
   ]
  },
  {
   "cell_type": "code",
   "execution_count": 53,
   "metadata": {
    "execution": {
     "iopub.status.busy": "2021-05-22T12:22:51.655350Z",
     "iopub.status.idle": "2021-05-22T12:22:51.655945Z"
    }
   },
   "outputs": [],
   "source": [
    "# Импортируем необходимые библиотеки:\n",
    "from sklearn.ensemble import RandomForestRegressor # инструмент для создания и обучения модели\n",
    "from sklearn import metrics # инструменты для оценки точности модели"
   ]
  },
  {
   "cell_type": "code",
   "execution_count": 54,
   "metadata": {
    "execution": {
     "iopub.status.busy": "2021-05-22T12:22:51.657132Z",
     "iopub.status.idle": "2021-05-22T12:22:51.657834Z"
    }
   },
   "outputs": [],
   "source": [
    "# Создаём модель (НАСТРОЙКИ НЕ ТРОГАЕМ)\n",
    "model = RandomForestRegressor(n_estimators=100, verbose=1, n_jobs=-1, random_state=RANDOM_SEED)"
   ]
  },
  {
   "cell_type": "code",
   "execution_count": 55,
   "metadata": {
    "execution": {
     "iopub.status.busy": "2021-05-22T12:22:51.659111Z",
     "iopub.status.idle": "2021-05-22T12:22:51.659636Z"
    }
   },
   "outputs": [
    {
     "name": "stderr",
     "output_type": "stream",
     "text": [
      "[Parallel(n_jobs=-1)]: Using backend ThreadingBackend with 4 concurrent workers.\n",
      "[Parallel(n_jobs=-1)]: Done  42 tasks      | elapsed:    2.3s\n",
      "[Parallel(n_jobs=-1)]: Done 100 out of 100 | elapsed:    5.2s finished\n",
      "[Parallel(n_jobs=4)]: Using backend ThreadingBackend with 4 concurrent workers.\n",
      "[Parallel(n_jobs=4)]: Done  42 tasks      | elapsed:    0.0s\n",
      "[Parallel(n_jobs=4)]: Done 100 out of 100 | elapsed:    0.1s finished\n"
     ]
    }
   ],
   "source": [
    "# Обучаем модель на тестовом наборе данных\n",
    "model.fit(X_train, y_train)\n",
    "\n",
    "# Используем обученную модель для предсказания рейтинга ресторанов в тестовой выборке.\n",
    "# Предсказанные значения записываем в переменную y_pred\n",
    "y_pred = model.predict(X_test)"
   ]
  },
  {
   "cell_type": "code",
   "execution_count": 56,
   "metadata": {
    "execution": {
     "iopub.execute_input": "2021-05-22T12:23:35.136969Z",
     "iopub.status.busy": "2021-05-22T12:23:35.136498Z",
     "iopub.status.idle": "2021-05-22T12:23:35.142533Z",
     "shell.execute_reply": "2021-05-22T12:23:35.141875Z",
     "shell.execute_reply.started": "2021-05-22T12:23:35.136927Z"
    }
   },
   "outputs": [
    {
     "name": "stdout",
     "output_type": "stream",
     "text": [
      "MAE: 0.20772437500000002\n"
     ]
    }
   ],
   "source": [
    "# Сравниваем предсказанные значения (y_pred) с реальными (y_test), и смотрим насколько они в среднем отличаются\n",
    "# Метрика называется Mean Absolute Error (MAE) и показывает среднее отклонение предсказанных значений от фактических.\n",
    "print('MAE:', metrics.mean_absolute_error(y_test, y_pred))"
   ]
  },
  {
   "cell_type": "code",
   "execution_count": 57,
   "metadata": {
    "execution": {
     "iopub.status.busy": "2021-05-22T12:22:51.662714Z",
     "iopub.status.idle": "2021-05-22T12:22:51.663135Z"
    }
   },
   "outputs": [
    {
     "data": {
      "text/plain": [
       "<matplotlib.axes._subplots.AxesSubplot at 0x7f52636bba58>"
      ]
     },
     "execution_count": 57,
     "metadata": {},
     "output_type": "execute_result"
    },
    {
     "data": {
      "image/png": "[encoded data removed]",
      "text/plain": [
       "<Figure size 720x720 with 1 Axes>"
      ]
     },
     "metadata": {
      "needs_background": "light"
     },
     "output_type": "display_data"
    }
   ],
   "source": [
    "# в RandomForestRegressor есть возможность вывести самые важные признаки для модели\n",
    "plt.rcParams['figure.figsize'] = (10,10)\n",
    "feat_importances = pd.Series(model.feature_importances_, index=X.columns)\n",
    "feat_importances.nlargest(15).plot(kind='barh')"
   ]
  },
  {
   "cell_type": "markdown",
   "metadata": {},
   "source": [
    "# Submission\n",
    "Если все устраевает - готовим Submission на кагл"
   ]
  },
  {
   "cell_type": "code",
   "execution_count": 58,
   "metadata": {
    "execution": {
     "iopub.status.busy": "2021-05-22T12:22:51.665727Z",
     "iopub.status.idle": "2021-05-22T12:22:51.666172Z"
    }
   },
   "outputs": [],
   "source": [
    "test_data = test_data.drop(['Rating','Ranking'], axis=1)"
   ]
  },
  {
   "cell_type": "code",
   "execution_count": 59,
   "metadata": {
    "execution": {
     "iopub.execute_input": "2021-05-22T12:29:38.309434Z",
     "iopub.status.busy": "2021-05-22T12:29:38.309099Z",
     "iopub.status.idle": "2021-05-22T12:29:38.344223Z",
     "shell.execute_reply": "2021-05-22T12:29:38.343670Z",
     "shell.execute_reply.started": "2021-05-22T12:29:38.309377Z"
    }
   },
   "outputs": [
    {
     "data": {
      "text/html": [
       "<div>\n",
       "<style scoped>\n",
       "    .dataframe tbody tr th:only-of-type {\n",
       "        vertical-align: middle;\n",
       "    }\n",
       "\n",
       "    .dataframe tbody tr th {\n",
       "        vertical-align: top;\n",
       "    }\n",
       "\n",
       "    .dataframe thead th {\n",
       "        text-align: right;\n",
       "    }\n",
       "</style>\n",
       "<table border=\"1\" class=\"dataframe\">\n",
       "  <thead>\n",
       "    <tr style=\"text-align: right;\">\n",
       "      <th></th>\n",
       "      <th>Number of Reviews</th>\n",
       "      <th>Price Range Dig</th>\n",
       "      <th>moods</th>\n",
       "      <th>Cuisine_count</th>\n",
       "      <th>Norm_ranking</th>\n",
       "      <th>City_Amsterdam</th>\n",
       "      <th>City_Athens</th>\n",
       "      <th>City_Barcelona</th>\n",
       "      <th>City_Berlin</th>\n",
       "      <th>City_Bratislava</th>\n",
       "      <th>...</th>\n",
       "      <th>City_Oporto</th>\n",
       "      <th>City_Oslo</th>\n",
       "      <th>City_Paris</th>\n",
       "      <th>City_Prague</th>\n",
       "      <th>City_Rome</th>\n",
       "      <th>City_Stockholm</th>\n",
       "      <th>City_Vienna</th>\n",
       "      <th>City_Warsaw</th>\n",
       "      <th>City_Zurich</th>\n",
       "      <th>City_nan</th>\n",
       "    </tr>\n",
       "  </thead>\n",
       "  <tbody>\n",
       "    <tr>\n",
       "      <th>0</th>\n",
       "      <td>4.0</td>\n",
       "      <td>2</td>\n",
       "      <td>0</td>\n",
       "      <td>2</td>\n",
       "      <td>0.926840</td>\n",
       "      <td>0</td>\n",
       "      <td>0</td>\n",
       "      <td>0</td>\n",
       "      <td>0</td>\n",
       "      <td>0</td>\n",
       "      <td>...</td>\n",
       "      <td>0</td>\n",
       "      <td>0</td>\n",
       "      <td>1</td>\n",
       "      <td>0</td>\n",
       "      <td>0</td>\n",
       "      <td>0</td>\n",
       "      <td>0</td>\n",
       "      <td>0</td>\n",
       "      <td>0</td>\n",
       "      <td>0</td>\n",
       "    </tr>\n",
       "    <tr>\n",
       "      <th>1</th>\n",
       "      <td>97.0</td>\n",
       "      <td>2</td>\n",
       "      <td>1</td>\n",
       "      <td>5</td>\n",
       "      <td>0.089710</td>\n",
       "      <td>0</td>\n",
       "      <td>0</td>\n",
       "      <td>0</td>\n",
       "      <td>0</td>\n",
       "      <td>0</td>\n",
       "      <td>...</td>\n",
       "      <td>0</td>\n",
       "      <td>0</td>\n",
       "      <td>0</td>\n",
       "      <td>0</td>\n",
       "      <td>0</td>\n",
       "      <td>0</td>\n",
       "      <td>0</td>\n",
       "      <td>0</td>\n",
       "      <td>0</td>\n",
       "      <td>0</td>\n",
       "    </tr>\n",
       "    <tr>\n",
       "      <th>2</th>\n",
       "      <td>28.0</td>\n",
       "      <td>2</td>\n",
       "      <td>0</td>\n",
       "      <td>1</td>\n",
       "      <td>0.458357</td>\n",
       "      <td>0</td>\n",
       "      <td>0</td>\n",
       "      <td>0</td>\n",
       "      <td>0</td>\n",
       "      <td>0</td>\n",
       "      <td>...</td>\n",
       "      <td>0</td>\n",
       "      <td>0</td>\n",
       "      <td>0</td>\n",
       "      <td>0</td>\n",
       "      <td>0</td>\n",
       "      <td>0</td>\n",
       "      <td>0</td>\n",
       "      <td>0</td>\n",
       "      <td>0</td>\n",
       "      <td>0</td>\n",
       "    </tr>\n",
       "    <tr>\n",
       "      <th>3</th>\n",
       "      <td>202.0</td>\n",
       "      <td>3</td>\n",
       "      <td>1</td>\n",
       "      <td>5</td>\n",
       "      <td>0.101441</td>\n",
       "      <td>0</td>\n",
       "      <td>0</td>\n",
       "      <td>0</td>\n",
       "      <td>0</td>\n",
       "      <td>0</td>\n",
       "      <td>...</td>\n",
       "      <td>0</td>\n",
       "      <td>0</td>\n",
       "      <td>0</td>\n",
       "      <td>0</td>\n",
       "      <td>0</td>\n",
       "      <td>0</td>\n",
       "      <td>0</td>\n",
       "      <td>0</td>\n",
       "      <td>0</td>\n",
       "      <td>0</td>\n",
       "    </tr>\n",
       "    <tr>\n",
       "      <th>4</th>\n",
       "      <td>162.0</td>\n",
       "      <td>3</td>\n",
       "      <td>1</td>\n",
       "      <td>6</td>\n",
       "      <td>0.038375</td>\n",
       "      <td>0</td>\n",
       "      <td>0</td>\n",
       "      <td>0</td>\n",
       "      <td>0</td>\n",
       "      <td>1</td>\n",
       "      <td>...</td>\n",
       "      <td>0</td>\n",
       "      <td>0</td>\n",
       "      <td>0</td>\n",
       "      <td>0</td>\n",
       "      <td>0</td>\n",
       "      <td>0</td>\n",
       "      <td>0</td>\n",
       "      <td>0</td>\n",
       "      <td>0</td>\n",
       "      <td>0</td>\n",
       "    </tr>\n",
       "    <tr>\n",
       "      <th>...</th>\n",
       "      <td>...</td>\n",
       "      <td>...</td>\n",
       "      <td>...</td>\n",
       "      <td>...</td>\n",
       "      <td>...</td>\n",
       "      <td>...</td>\n",
       "      <td>...</td>\n",
       "      <td>...</td>\n",
       "      <td>...</td>\n",
       "      <td>...</td>\n",
       "      <td>...</td>\n",
       "      <td>...</td>\n",
       "      <td>...</td>\n",
       "      <td>...</td>\n",
       "      <td>...</td>\n",
       "      <td>...</td>\n",
       "      <td>...</td>\n",
       "      <td>...</td>\n",
       "      <td>...</td>\n",
       "      <td>...</td>\n",
       "      <td>...</td>\n",
       "    </tr>\n",
       "    <tr>\n",
       "      <th>9995</th>\n",
       "      <td>28.0</td>\n",
       "      <td>1</td>\n",
       "      <td>1</td>\n",
       "      <td>4</td>\n",
       "      <td>0.265523</td>\n",
       "      <td>0</td>\n",
       "      <td>0</td>\n",
       "      <td>0</td>\n",
       "      <td>0</td>\n",
       "      <td>0</td>\n",
       "      <td>...</td>\n",
       "      <td>0</td>\n",
       "      <td>0</td>\n",
       "      <td>0</td>\n",
       "      <td>0</td>\n",
       "      <td>0</td>\n",
       "      <td>0</td>\n",
       "      <td>0</td>\n",
       "      <td>0</td>\n",
       "      <td>0</td>\n",
       "      <td>0</td>\n",
       "    </tr>\n",
       "    <tr>\n",
       "      <th>9996</th>\n",
       "      <td>2.0</td>\n",
       "      <td>2</td>\n",
       "      <td>0</td>\n",
       "      <td>4</td>\n",
       "      <td>0.702637</td>\n",
       "      <td>0</td>\n",
       "      <td>0</td>\n",
       "      <td>0</td>\n",
       "      <td>0</td>\n",
       "      <td>0</td>\n",
       "      <td>...</td>\n",
       "      <td>0</td>\n",
       "      <td>0</td>\n",
       "      <td>0</td>\n",
       "      <td>0</td>\n",
       "      <td>0</td>\n",
       "      <td>0</td>\n",
       "      <td>0</td>\n",
       "      <td>0</td>\n",
       "      <td>0</td>\n",
       "      <td>0</td>\n",
       "    </tr>\n",
       "    <tr>\n",
       "      <th>9997</th>\n",
       "      <td>2.0</td>\n",
       "      <td>2</td>\n",
       "      <td>0</td>\n",
       "      <td>1</td>\n",
       "      <td>0.886356</td>\n",
       "      <td>0</td>\n",
       "      <td>0</td>\n",
       "      <td>0</td>\n",
       "      <td>0</td>\n",
       "      <td>0</td>\n",
       "      <td>...</td>\n",
       "      <td>0</td>\n",
       "      <td>0</td>\n",
       "      <td>0</td>\n",
       "      <td>0</td>\n",
       "      <td>0</td>\n",
       "      <td>0</td>\n",
       "      <td>0</td>\n",
       "      <td>0</td>\n",
       "      <td>0</td>\n",
       "      <td>0</td>\n",
       "    </tr>\n",
       "    <tr>\n",
       "      <th>9998</th>\n",
       "      <td>2.0</td>\n",
       "      <td>2</td>\n",
       "      <td>0</td>\n",
       "      <td>1</td>\n",
       "      <td>0.638986</td>\n",
       "      <td>0</td>\n",
       "      <td>0</td>\n",
       "      <td>0</td>\n",
       "      <td>0</td>\n",
       "      <td>0</td>\n",
       "      <td>...</td>\n",
       "      <td>0</td>\n",
       "      <td>0</td>\n",
       "      <td>0</td>\n",
       "      <td>0</td>\n",
       "      <td>0</td>\n",
       "      <td>0</td>\n",
       "      <td>0</td>\n",
       "      <td>0</td>\n",
       "      <td>0</td>\n",
       "      <td>0</td>\n",
       "    </tr>\n",
       "    <tr>\n",
       "      <th>9999</th>\n",
       "      <td>14.0</td>\n",
       "      <td>2</td>\n",
       "      <td>0</td>\n",
       "      <td>1</td>\n",
       "      <td>0.485447</td>\n",
       "      <td>0</td>\n",
       "      <td>0</td>\n",
       "      <td>0</td>\n",
       "      <td>0</td>\n",
       "      <td>0</td>\n",
       "      <td>...</td>\n",
       "      <td>0</td>\n",
       "      <td>0</td>\n",
       "      <td>1</td>\n",
       "      <td>0</td>\n",
       "      <td>0</td>\n",
       "      <td>0</td>\n",
       "      <td>0</td>\n",
       "      <td>0</td>\n",
       "      <td>0</td>\n",
       "      <td>0</td>\n",
       "    </tr>\n",
       "  </tbody>\n",
       "</table>\n",
       "<p>10000 rows × 37 columns</p>\n",
       "</div>"
      ],
      "text/plain": [
       "      Number of Reviews  Price Range Dig  moods  Cuisine_count  Norm_ranking  \\\n",
       "0                   4.0                2      0              2      0.926840   \n",
       "1                  97.0                2      1              5      0.089710   \n",
       "2                  28.0                2      0              1      0.458357   \n",
       "3                 202.0                3      1              5      0.101441   \n",
       "4                 162.0                3      1              6      0.038375   \n",
       "...                 ...              ...    ...            ...           ...   \n",
       "9995               28.0                1      1              4      0.265523   \n",
       "9996                2.0                2      0              4      0.702637   \n",
       "9997                2.0                2      0              1      0.886356   \n",
       "9998                2.0                2      0              1      0.638986   \n",
       "9999               14.0                2      0              1      0.485447   \n",
       "\n",
       "      City_Amsterdam  City_Athens  City_Barcelona  City_Berlin  \\\n",
       "0                  0            0               0            0   \n",
       "1                  0            0               0            0   \n",
       "2                  0            0               0            0   \n",
       "3                  0            0               0            0   \n",
       "4                  0            0               0            0   \n",
       "...              ...          ...             ...          ...   \n",
       "9995               0            0               0            0   \n",
       "9996               0            0               0            0   \n",
       "9997               0            0               0            0   \n",
       "9998               0            0               0            0   \n",
       "9999               0            0               0            0   \n",
       "\n",
       "      City_Bratislava  ...  City_Oporto  City_Oslo  City_Paris  City_Prague  \\\n",
       "0                   0  ...            0          0           1            0   \n",
       "1                   0  ...            0          0           0            0   \n",
       "2                   0  ...            0          0           0            0   \n",
       "3                   0  ...            0          0           0            0   \n",
       "4                   1  ...            0          0           0            0   \n",
       "...               ...  ...          ...        ...         ...          ...   \n",
       "9995                0  ...            0          0           0            0   \n",
       "9996                0  ...            0          0           0            0   \n",
       "9997                0  ...            0          0           0            0   \n",
       "9998                0  ...            0          0           0            0   \n",
       "9999                0  ...            0          0           1            0   \n",
       "\n",
       "      City_Rome  City_Stockholm  City_Vienna  City_Warsaw  City_Zurich  \\\n",
       "0             0               0            0            0            0   \n",
       "1             0               0            0            0            0   \n",
       "2             0               0            0            0            0   \n",
       "3             0               0            0            0            0   \n",
       "4             0               0            0            0            0   \n",
       "...         ...             ...          ...          ...          ...   \n",
       "9995          0               0            0            0            0   \n",
       "9996          0               0            0            0            0   \n",
       "9997          0               0            0            0            0   \n",
       "9998          0               0            0            0            0   \n",
       "9999          0               0            0            0            0   \n",
       "\n",
       "      City_nan  \n",
       "0            0  \n",
       "1            0  \n",
       "2            0  \n",
       "3            0  \n",
       "4            0  \n",
       "...        ...  \n",
       "9995         0  \n",
       "9996         0  \n",
       "9997         0  \n",
       "9998         0  \n",
       "9999         0  \n",
       "\n",
       "[10000 rows x 37 columns]"
      ]
     },
     "execution_count": 59,
     "metadata": {},
     "output_type": "execute_result"
    }
   ],
   "source": [
    "test_data"
   ]
  },
  {
   "cell_type": "code",
   "execution_count": 60,
   "metadata": {
    "execution": {
     "iopub.execute_input": "2021-05-22T12:36:57.466007Z",
     "iopub.status.busy": "2021-05-22T12:36:57.465716Z",
     "iopub.status.idle": "2021-05-22T12:36:57.481498Z",
     "shell.execute_reply": "2021-05-22T12:36:57.480647Z",
     "shell.execute_reply.started": "2021-05-22T12:36:57.465970Z"
    }
   },
   "outputs": [
    {
     "data": {
      "text/html": [
       "<div>\n",
       "<style scoped>\n",
       "    .dataframe tbody tr th:only-of-type {\n",
       "        vertical-align: middle;\n",
       "    }\n",
       "\n",
       "    .dataframe tbody tr th {\n",
       "        vertical-align: top;\n",
       "    }\n",
       "\n",
       "    .dataframe thead th {\n",
       "        text-align: right;\n",
       "    }\n",
       "</style>\n",
       "<table border=\"1\" class=\"dataframe\">\n",
       "  <thead>\n",
       "    <tr style=\"text-align: right;\">\n",
       "      <th></th>\n",
       "      <th>Restaurant_id</th>\n",
       "      <th>Rating</th>\n",
       "    </tr>\n",
       "  </thead>\n",
       "  <tbody>\n",
       "    <tr>\n",
       "      <th>0</th>\n",
       "      <td>id_0</td>\n",
       "      <td>2.0</td>\n",
       "    </tr>\n",
       "    <tr>\n",
       "      <th>1</th>\n",
       "      <td>id_1</td>\n",
       "      <td>2.5</td>\n",
       "    </tr>\n",
       "    <tr>\n",
       "      <th>2</th>\n",
       "      <td>id_2</td>\n",
       "      <td>4.0</td>\n",
       "    </tr>\n",
       "    <tr>\n",
       "      <th>3</th>\n",
       "      <td>id_3</td>\n",
       "      <td>1.0</td>\n",
       "    </tr>\n",
       "    <tr>\n",
       "      <th>4</th>\n",
       "      <td>id_4</td>\n",
       "      <td>4.0</td>\n",
       "    </tr>\n",
       "    <tr>\n",
       "      <th>...</th>\n",
       "      <td>...</td>\n",
       "      <td>...</td>\n",
       "    </tr>\n",
       "    <tr>\n",
       "      <th>9995</th>\n",
       "      <td>id_9995</td>\n",
       "      <td>3.0</td>\n",
       "    </tr>\n",
       "    <tr>\n",
       "      <th>9996</th>\n",
       "      <td>id_9996</td>\n",
       "      <td>1.5</td>\n",
       "    </tr>\n",
       "    <tr>\n",
       "      <th>9997</th>\n",
       "      <td>id_9997</td>\n",
       "      <td>4.5</td>\n",
       "    </tr>\n",
       "    <tr>\n",
       "      <th>9998</th>\n",
       "      <td>id_9998</td>\n",
       "      <td>1.0</td>\n",
       "    </tr>\n",
       "    <tr>\n",
       "      <th>9999</th>\n",
       "      <td>id_9999</td>\n",
       "      <td>2.5</td>\n",
       "    </tr>\n",
       "  </tbody>\n",
       "</table>\n",
       "<p>10000 rows × 2 columns</p>\n",
       "</div>"
      ],
      "text/plain": [
       "     Restaurant_id  Rating\n",
       "0             id_0     2.0\n",
       "1             id_1     2.5\n",
       "2             id_2     4.0\n",
       "3             id_3     1.0\n",
       "4             id_4     4.0\n",
       "...            ...     ...\n",
       "9995       id_9995     3.0\n",
       "9996       id_9996     1.5\n",
       "9997       id_9997     4.5\n",
       "9998       id_9998     1.0\n",
       "9999       id_9999     2.5\n",
       "\n",
       "[10000 rows x 2 columns]"
      ]
     },
     "execution_count": 60,
     "metadata": {},
     "output_type": "execute_result"
    }
   ],
   "source": [
    "sample_submission"
   ]
  },
  {
   "cell_type": "code",
   "execution_count": 61,
   "metadata": {
    "execution": {
     "iopub.status.busy": "2021-05-22T12:22:51.669208Z",
     "iopub.status.idle": "2021-05-22T12:22:51.669722Z"
    }
   },
   "outputs": [
    {
     "name": "stderr",
     "output_type": "stream",
     "text": [
      "[Parallel(n_jobs=4)]: Using backend ThreadingBackend with 4 concurrent workers.\n",
      "[Parallel(n_jobs=4)]: Done  42 tasks      | elapsed:    0.0s\n",
      "[Parallel(n_jobs=4)]: Done 100 out of 100 | elapsed:    0.1s finished\n"
     ]
    }
   ],
   "source": [
    "predict_submission = model.predict(test_data)"
   ]
  },
  {
   "cell_type": "code",
   "execution_count": 62,
   "metadata": {
    "execution": {
     "iopub.execute_input": "2021-05-22T12:37:05.966867Z",
     "iopub.status.busy": "2021-05-22T12:37:05.966176Z",
     "iopub.status.idle": "2021-05-22T12:37:05.973957Z",
     "shell.execute_reply": "2021-05-22T12:37:05.972719Z",
     "shell.execute_reply.started": "2021-05-22T12:37:05.966800Z"
    }
   },
   "outputs": [
    {
     "data": {
      "text/plain": [
       "array([3.045, 4.305, 4.48 , ..., 3.11 , 4.485, 4.21 ])"
      ]
     },
     "execution_count": 62,
     "metadata": {},
     "output_type": "execute_result"
    }
   ],
   "source": [
    "predict_submission"
   ]
  },
  {
   "cell_type": "code",
   "execution_count": 63,
   "metadata": {
    "execution": {
     "iopub.status.busy": "2021-05-22T12:22:51.672140Z",
     "iopub.status.idle": "2021-05-22T12:22:51.672586Z"
    }
   },
   "outputs": [
    {
     "data": {
      "text/html": [
       "<div>\n",
       "<style scoped>\n",
       "    .dataframe tbody tr th:only-of-type {\n",
       "        vertical-align: middle;\n",
       "    }\n",
       "\n",
       "    .dataframe tbody tr th {\n",
       "        vertical-align: top;\n",
       "    }\n",
       "\n",
       "    .dataframe thead th {\n",
       "        text-align: right;\n",
       "    }\n",
       "</style>\n",
       "<table border=\"1\" class=\"dataframe\">\n",
       "  <thead>\n",
       "    <tr style=\"text-align: right;\">\n",
       "      <th></th>\n",
       "      <th>Restaurant_id</th>\n",
       "      <th>Rating</th>\n",
       "    </tr>\n",
       "  </thead>\n",
       "  <tbody>\n",
       "    <tr>\n",
       "      <th>0</th>\n",
       "      <td>id_0</td>\n",
       "      <td>3.045</td>\n",
       "    </tr>\n",
       "    <tr>\n",
       "      <th>1</th>\n",
       "      <td>id_1</td>\n",
       "      <td>4.305</td>\n",
       "    </tr>\n",
       "    <tr>\n",
       "      <th>2</th>\n",
       "      <td>id_2</td>\n",
       "      <td>4.480</td>\n",
       "    </tr>\n",
       "    <tr>\n",
       "      <th>3</th>\n",
       "      <td>id_3</td>\n",
       "      <td>4.225</td>\n",
       "    </tr>\n",
       "    <tr>\n",
       "      <th>4</th>\n",
       "      <td>id_4</td>\n",
       "      <td>4.500</td>\n",
       "    </tr>\n",
       "    <tr>\n",
       "      <th>5</th>\n",
       "      <td>id_5</td>\n",
       "      <td>4.595</td>\n",
       "    </tr>\n",
       "    <tr>\n",
       "      <th>6</th>\n",
       "      <td>id_6</td>\n",
       "      <td>1.250</td>\n",
       "    </tr>\n",
       "    <tr>\n",
       "      <th>7</th>\n",
       "      <td>id_7</td>\n",
       "      <td>3.495</td>\n",
       "    </tr>\n",
       "    <tr>\n",
       "      <th>8</th>\n",
       "      <td>id_8</td>\n",
       "      <td>4.230</td>\n",
       "    </tr>\n",
       "    <tr>\n",
       "      <th>9</th>\n",
       "      <td>id_9</td>\n",
       "      <td>4.715</td>\n",
       "    </tr>\n",
       "  </tbody>\n",
       "</table>\n",
       "</div>"
      ],
      "text/plain": [
       "  Restaurant_id  Rating\n",
       "0          id_0   3.045\n",
       "1          id_1   4.305\n",
       "2          id_2   4.480\n",
       "3          id_3   4.225\n",
       "4          id_4   4.500\n",
       "5          id_5   4.595\n",
       "6          id_6   1.250\n",
       "7          id_7   3.495\n",
       "8          id_8   4.230\n",
       "9          id_9   4.715"
      ]
     },
     "execution_count": 63,
     "metadata": {},
     "output_type": "execute_result"
    }
   ],
   "source": [
    "sample_submission['Rating'] = predict_submission\n",
    "sample_submission.to_csv('submission.csv', index=False)\n",
    "sample_submission.head(10)"
   ]
  },
  {
   "cell_type": "markdown",
   "metadata": {},
   "source": [
    "# What's next?\n",
    "Или что делать, чтоб улучшить результат:\n",
    "* Обработать оставшиеся признаки в понятный для машины формат\n",
    "* Посмотреть, что еще можно извлечь из признаков\n",
    "* Сгенерировать новые признаки\n",
    "* Подгрузить дополнительные данные, например: по населению или благосостоянию городов\n",
    "* Подобрать состав признаков\n",
    "\n",
    "В общем, процесс творческий и весьма увлекательный! Удачи в соревновании!\n"
   ]
  },
  {
   "cell_type": "code",
   "execution_count": null,
   "metadata": {},
   "outputs": [],
   "source": []
  }
 ],
 "metadata": {
  "kernelspec": {
   "display_name": "Python 3",
   "language": "python",
   "name": "python3"
  },
  "language_info": {
   "codemirror_mode": {
    "name": "ipython",
    "version": 3
   },
   "file_extension": ".py",
   "mimetype": "text/x-python",
   "name": "python",
   "nbconvert_exporter": "python",
   "pygments_lexer": "ipython3",
   "version": "3.6.6"
  }
 },
 "nbformat": 4,
 "nbformat_minor": 4
}
